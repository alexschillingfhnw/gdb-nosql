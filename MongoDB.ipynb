{
  "nbformat": 4,
  "nbformat_minor": 0,
  "metadata": {
    "colab": {
      "name": "MongoDB.ipynb",
      "provenance": []
    },
    "kernelspec": {
      "name": "python3",
      "display_name": "Python 3"
    }
  },
  "cells": [
    {
      "cell_type": "markdown",
      "metadata": {
        "id": "HlDTmdAK7WGs"
      },
      "source": [
        "Tutorial for using Python with MongoDB for querying (also in MongoDB syntax). Weiterführende Tutorials:\n",
        "\n",
        "*   https://www.mongodb.com/blog/post/getting-started-with-python-and-mongodb\n",
        "*   https://dzone.com/articles/getting-started-with-python-and-mongodb\n",
        "*   http://zetcode.com/python/pymongo/\n",
        "*   https://www.sitepoint.com/using-joins-in-mongodb-nosql-databases/\n",
        "\n"
      ]
    },
    {
      "cell_type": "code",
      "metadata": {
        "colab": {
          "base_uri": "https://localhost:8080/"
        },
        "id": "PG57pWThnH1_",
        "outputId": "d4698dc6-8315-4319-9538-63bcfe797d60"
      },
      "source": [
        "!pip install dnspython"
      ],
      "execution_count": null,
      "outputs": [
        {
          "output_type": "stream",
          "text": [
            "Collecting dnspython\n",
            "\u001b[?25l  Downloading https://files.pythonhosted.org/packages/90/49/cb426577c28ca3e35332815b795a99e467523843fc83cc85ca0d6be2515a/dnspython-2.0.0-py3-none-any.whl (208kB)\n",
            "\r\u001b[K     |█▋                              | 10kB 16.0MB/s eta 0:00:01\r\u001b[K     |███▏                            | 20kB 21.5MB/s eta 0:00:01\r\u001b[K     |████▊                           | 30kB 12.1MB/s eta 0:00:01\r\u001b[K     |██████▎                         | 40kB 9.5MB/s eta 0:00:01\r\u001b[K     |███████▉                        | 51kB 5.1MB/s eta 0:00:01\r\u001b[K     |█████████▍                      | 61kB 5.7MB/s eta 0:00:01\r\u001b[K     |███████████                     | 71kB 5.7MB/s eta 0:00:01\r\u001b[K     |████████████▋                   | 81kB 6.3MB/s eta 0:00:01\r\u001b[K     |██████████████▏                 | 92kB 6.2MB/s eta 0:00:01\r\u001b[K     |███████████████▊                | 102kB 6.7MB/s eta 0:00:01\r\u001b[K     |█████████████████▎              | 112kB 6.7MB/s eta 0:00:01\r\u001b[K     |██████████████████▉             | 122kB 6.7MB/s eta 0:00:01\r\u001b[K     |████████████████████▌           | 133kB 6.7MB/s eta 0:00:01\r\u001b[K     |██████████████████████          | 143kB 6.7MB/s eta 0:00:01\r\u001b[K     |███████████████████████▋        | 153kB 6.7MB/s eta 0:00:01\r\u001b[K     |█████████████████████████▏      | 163kB 6.7MB/s eta 0:00:01\r\u001b[K     |██████████████████████████▊     | 174kB 6.7MB/s eta 0:00:01\r\u001b[K     |████████████████████████████▎   | 184kB 6.7MB/s eta 0:00:01\r\u001b[K     |██████████████████████████████  | 194kB 6.7MB/s eta 0:00:01\r\u001b[K     |███████████████████████████████▌| 204kB 6.7MB/s eta 0:00:01\r\u001b[K     |████████████████████████████████| 215kB 6.7MB/s \n",
            "\u001b[?25hInstalling collected packages: dnspython\n",
            "Successfully installed dnspython-2.0.0\n"
          ],
          "name": "stdout"
        }
      ]
    },
    {
      "cell_type": "markdown",
      "metadata": {
        "id": "tolKrf-Utde1"
      },
      "source": [
        "Check white list in Network Access in Mongo Atlas, you might get a connection error else when querying (not connecting...). Below the command to show which ip address this server has from the outside."
      ]
    },
    {
      "cell_type": "code",
      "metadata": {
        "colab": {
          "base_uri": "https://localhost:8080/"
        },
        "id": "vV5gUJtFtk7g",
        "outputId": "16a77dd7-a7cf-441d-e95d-7029b90d3f73"
      },
      "source": [
        "!curl ipecho.net/plain"
      ],
      "execution_count": null,
      "outputs": [
        {
          "output_type": "stream",
          "text": [
            "34.66.77.46"
          ],
          "name": "stdout"
        }
      ]
    },
    {
      "cell_type": "markdown",
      "metadata": {
        "id": "s09Hv_oxPLFh"
      },
      "source": [
        ""
      ]
    },
    {
      "cell_type": "markdown",
      "metadata": {
        "id": "E3k7RpYNH-XI"
      },
      "source": [
        "Connect to the Mongo Atlas, important replace USERNAME and PASSWORD appropriately (Project 0/Database Access/User)."
      ]
    },
    {
      "cell_type": "code",
      "metadata": {
        "id": "u8rPYngceVte"
      },
      "source": [
        "from pymongo import MongoClient\n",
        "client = MongoClient('mongodb+srv://<USERNAME>:<PASSWORD>@cluster0.rndqo.mongodb.net/sample_analytics')"
      ],
      "execution_count": null,
      "outputs": []
    },
    {
      "cell_type": "markdown",
      "metadata": {
        "id": "CDzMPV9gIDJp"
      },
      "source": [
        "We use the sample_analytics connection."
      ]
    },
    {
      "cell_type": "code",
      "metadata": {
        "id": "GcQ9ea1ki8Dy"
      },
      "source": [
        "db = client.sample_analytics"
      ],
      "execution_count": null,
      "outputs": []
    },
    {
      "cell_type": "markdown",
      "metadata": {
        "id": "OBCgjOAAIGTY"
      },
      "source": [
        "With the following code you can check the type and which attributes/functions you can do with the object/instance \"db\".\n"
      ]
    },
    {
      "cell_type": "code",
      "metadata": {
        "colab": {
          "base_uri": "https://localhost:8080/"
        },
        "id": "exuxTv-7jAQR",
        "outputId": "87dde45a-85d3-4909-82c8-c59ff73be923"
      },
      "source": [
        "print(type(db),dir(db))"
      ],
      "execution_count": null,
      "outputs": [
        {
          "output_type": "stream",
          "text": [
            "<class 'pymongo.database.Database'> ['_BaseObject__codec_options', '_BaseObject__read_concern', '_BaseObject__read_preference', '_BaseObject__write_concern', '_Database__client', '_Database__incoming_copying_manipulators', '_Database__incoming_manipulators', '_Database__name', '_Database__outgoing_copying_manipulators', '_Database__outgoing_manipulators', '__call__', '__class__', '__delattr__', '__dict__', '__dir__', '__doc__', '__eq__', '__format__', '__ge__', '__getattr__', '__getattribute__', '__getitem__', '__gt__', '__hash__', '__init__', '__init_subclass__', '__iter__', '__le__', '__lt__', '__module__', '__ne__', '__new__', '__next__', '__reduce__', '__reduce_ex__', '__repr__', '__setattr__', '__sizeof__', '__str__', '__subclasshook__', '__weakref__', '_apply_incoming_copying_manipulators', '_apply_incoming_manipulators', '_command', '_create_or_update_user', '_current_op', '_default_role', '_fix_incoming', '_fix_outgoing', '_list_collections', '_read_preference_for', '_retryable_read_command', '_write_concern_for', 'add_son_manipulator', 'add_user', 'aggregate', 'authenticate', 'client', 'codec_options', 'collection_names', 'command', 'create_collection', 'current_op', 'dereference', 'drop_collection', 'error', 'eval', 'get_collection', 'incoming_copying_manipulators', 'incoming_manipulators', 'last_status', 'list_collection_names', 'list_collections', 'logout', 'name', 'next', 'outgoing_copying_manipulators', 'outgoing_manipulators', 'previous_error', 'profiling_info', 'profiling_level', 'read_concern', 'read_preference', 'remove_user', 'reset_error_history', 'set_profiling_level', 'system_js', 'validate_collection', 'watch', 'with_options', 'write_concern']\n"
          ],
          "name": "stdout"
        }
      ]
    },
    {
      "cell_type": "markdown",
      "metadata": {
        "id": "-u8ZG_5rIRb3"
      },
      "source": [
        "Let's list which collections are in this database"
      ]
    },
    {
      "cell_type": "code",
      "metadata": {
        "colab": {
          "base_uri": "https://localhost:8080/"
        },
        "id": "TyvpxwgXjPAv",
        "outputId": "b34b3c7e-9cd2-46a8-f28a-3311fb372707"
      },
      "source": [
        "db.list_collection_names()"
      ],
      "execution_count": null,
      "outputs": [
        {
          "output_type": "execute_result",
          "data": {
            "text/plain": [
              "['customers', 'accounts', 'transactions']"
            ]
          },
          "metadata": {
            "tags": []
          },
          "execution_count": 13
        }
      ]
    },
    {
      "cell_type": "markdown",
      "metadata": {
        "id": "j51fZj6wIVSW"
      },
      "source": [
        "Just checking the status of the server and connections."
      ]
    },
    {
      "cell_type": "code",
      "metadata": {
        "colab": {
          "base_uri": "https://localhost:8080/"
        },
        "id": "PcJVFw5bjWmp",
        "outputId": "2e7adb1d-8311-4c29-91ba-ccd129c838be"
      },
      "source": [
        "client.admin.command(\"serverStatus\")"
      ],
      "execution_count": null,
      "outputs": [
        {
          "output_type": "execute_result",
          "data": {
            "text/plain": [
              "{'$clusterTime': {'clusterTime': Timestamp(1606818411, 1),\n",
              "  'signature': {'hash': b'{y\\xadi.p\\xeb\\x13\\x15rLo\\xafQD\\xc7\\xa6\\x12\\x1dg',\n",
              "   'keyId': 6880201432511807491}},\n",
              " 'asserts': {'msg': 0, 'regular': 0, 'rollovers': 0, 'user': 0, 'warning': 0},\n",
              " 'atlasVersion': {'gitVersion': '4719b6d34c5fbbf73e93f1ff22641ebf02da3249',\n",
              "  'version': '20201013.0.0.1602254538'},\n",
              " 'connections': {'available': 490, 'current': 10, 'totalCreated': 70},\n",
              " 'extra_info': {'note': 'fields vary by platform', 'page_faults': 0},\n",
              " 'host': 'cluster0-shard-00-02.rndqo.mongodb.net:27017',\n",
              " 'localTime': datetime.datetime(2020, 12, 1, 10, 26, 51, 350000),\n",
              " 'mem': {'bits': 64,\n",
              "  'mapped': 0,\n",
              "  'mappedWithJournal': 0,\n",
              "  'resident': 0,\n",
              "  'supported': True,\n",
              "  'virtual': 0},\n",
              " 'metrics': {'atlas': {'bytesInWrites': 346030080,\n",
              "   'connectionPool': {'totalCreated': 4810}}},\n",
              " 'network': {'bytesIn': 349686, 'bytesOut': 7649789, 'numRequests': 1386},\n",
              " 'ok': 1.0,\n",
              " 'opcounters': {'command': 1362,\n",
              "  'delete': 0,\n",
              "  'getmore': 2,\n",
              "  'insert': 0,\n",
              "  'query': 21,\n",
              "  'update': 0},\n",
              " 'opcountersRepl': {'command': 0,\n",
              "  'delete': 0,\n",
              "  'getmore': 0,\n",
              "  'insert': 0,\n",
              "  'query': 0,\n",
              "  'update': 0},\n",
              " 'operationTime': Timestamp(1606818411, 1),\n",
              " 'pid': 1653,\n",
              " 'process': 'mongod',\n",
              " 'repl': {'electionId': ObjectId('7fffffff0000000000000006'),\n",
              "  'hosts': ['cluster0-shard-00-00.rndqo.mongodb.net:27017',\n",
              "   'cluster0-shard-00-01.rndqo.mongodb.net:27017',\n",
              "   'cluster0-shard-00-02.rndqo.mongodb.net:27017'],\n",
              "  'ismaster': True,\n",
              "  'lastWrite': {'lastWriteDate': datetime.datetime(2020, 12, 1, 10, 26, 51),\n",
              "   'majorityOpTime': {'t': 6, 'ts': Timestamp(1606818411, 1)},\n",
              "   'majorityWriteDate': datetime.datetime(2020, 12, 1, 10, 26, 51),\n",
              "   'opTime': {'t': 6, 'ts': Timestamp(1606818411, 1)}},\n",
              "  'me': 'cluster0-shard-00-02.rndqo.mongodb.net:27017',\n",
              "  'primary': 'cluster0-shard-00-02.rndqo.mongodb.net:27017',\n",
              "  'rbid': 1,\n",
              "  'secondary': False,\n",
              "  'setName': 'atlas-gp709g-shard-0',\n",
              "  'setVersion': 1,\n",
              "  'tags': {'nodeType': 'ELECTABLE',\n",
              "   'provider': 'AWS',\n",
              "   'region': 'EU_CENTRAL_1',\n",
              "   'workloadType': 'OPERATIONAL'}},\n",
              " 'storageEngine': {'backupCursorOpen': False,\n",
              "  'dropPendingIdents': 0,\n",
              "  'name': 'wiredTiger',\n",
              "  'oldestRequiredTimestampForCrashRecovery': Timestamp(1606818359, 2),\n",
              "  'persistent': True,\n",
              "  'readOnly': False,\n",
              "  'supportsCommittedReads': True,\n",
              "  'supportsPendingDrops': True,\n",
              "  'supportsSnapshotReadConcern': True},\n",
              " 'uptime': 4649194.0,\n",
              " 'uptimeEstimate': 4649193,\n",
              " 'uptimeMillis': 4649193771,\n",
              " 'version': '4.2.10'}"
            ]
          },
          "metadata": {
            "tags": []
          },
          "execution_count": 14
        }
      ]
    },
    {
      "cell_type": "markdown",
      "metadata": {
        "id": "3B7b4YNsIbCn"
      },
      "source": [
        "Let's get the account collection."
      ]
    },
    {
      "cell_type": "code",
      "metadata": {
        "id": "JCKbIGoPssiJ"
      },
      "source": [
        "accounts= db.accounts"
      ],
      "execution_count": null,
      "outputs": []
    },
    {
      "cell_type": "markdown",
      "metadata": {
        "id": "aREXiqlcIfKX"
      },
      "source": [
        "Print out the type, check that it is a collection: https://docs.mongodb.com/manual/core/databases-and-collections/."
      ]
    },
    {
      "cell_type": "code",
      "metadata": {
        "colab": {
          "base_uri": "https://localhost:8080/"
        },
        "id": "xBUIFFts16T_",
        "outputId": "f5847e1e-63c8-4a72-f46e-1941df0b90e8"
      },
      "source": [
        "type(accounts)"
      ],
      "execution_count": null,
      "outputs": [
        {
          "output_type": "execute_result",
          "data": {
            "text/plain": [
              "pymongo.collection.Collection"
            ]
          },
          "metadata": {
            "tags": []
          },
          "execution_count": 18
        }
      ]
    },
    {
      "cell_type": "markdown",
      "metadata": {
        "id": "TaV7Ldp0IkPb"
      },
      "source": [
        "Let's get the data from it."
      ]
    },
    {
      "cell_type": "code",
      "metadata": {
        "id": "Ys8pfcgx2hDJ"
      },
      "source": [
        "result = accounts.find()"
      ],
      "execution_count": null,
      "outputs": []
    },
    {
      "cell_type": "markdown",
      "metadata": {
        "id": "xXUeGYdtInF6"
      },
      "source": [
        "Interestingly the result is not a collection: https://docs.mongodb.com/manual/reference/method/db.collection.find/index.html"
      ]
    },
    {
      "cell_type": "code",
      "metadata": {
        "colab": {
          "base_uri": "https://localhost:8080/"
        },
        "id": "TaPLE67S2jpK",
        "outputId": "364ed832-24d1-4cd7-d987-9b37531707a8"
      },
      "source": [
        "type(result)"
      ],
      "execution_count": null,
      "outputs": [
        {
          "output_type": "execute_result",
          "data": {
            "text/plain": [
              "pymongo.cursor.Cursor"
            ]
          },
          "metadata": {
            "tags": []
          },
          "execution_count": 29
        }
      ]
    },
    {
      "cell_type": "markdown",
      "metadata": {
        "id": "kdZtbDeVJD04"
      },
      "source": [
        "dir will tell you that result( Cursor) has a method next, which can be used to iterate through, let's iterate. Be aware, after iterating, the result will be empty (so you could save the data in a list)."
      ]
    },
    {
      "cell_type": "code",
      "metadata": {
        "colab": {
          "base_uri": "https://localhost:8080/"
        },
        "id": "tPvttfKn2mbj",
        "outputId": "8bf75e36-18fc-4852-d68d-f6d38b024505"
      },
      "source": [
        "for i1,res in enumerate(result):\n",
        "  if i1%100==0:\n",
        "    print(res)\n",
        "print(i1)"
      ],
      "execution_count": null,
      "outputs": [
        {
          "output_type": "stream",
          "text": [
            "{'_id': ObjectId('5ca4bbc7a2dd94ee5816239a'), 'account_id': 370583, 'limit': 10000, 'products': ['Brokerage', 'Commodity', 'InvestmentStock']}\n",
            "{'_id': ObjectId('5ca4bbc7a2dd94ee581625ea'), 'account_id': 642405, 'limit': 10000, 'products': ['Brokerage', 'Commodity', 'InvestmentFund', 'CurrencyService', 'InvestmentStock']}\n",
            "{'_id': ObjectId('5ca4bbc7a2dd94ee58162581'), 'account_id': 529972, 'limit': 10000, 'products': ['CurrencyService', 'Commodity', 'InvestmentStock', 'Brokerage']}\n",
            "{'_id': ObjectId('5ca4bbc7a2dd94ee58162460'), 'account_id': 898675, 'limit': 10000, 'products': ['InvestmentStock', 'Derivatives', 'Commodity']}\n",
            "{'_id': ObjectId('5ca4bbc7a2dd94ee58162414'), 'account_id': 261796, 'limit': 10000, 'products': ['InvestmentStock']}\n",
            "{'_id': ObjectId('5ca4bbc7a2dd94ee58162583'), 'account_id': 785218, 'limit': 10000, 'products': ['Commodity', 'InvestmentStock']}\n",
            "{'_id': ObjectId('5ca4bbc7a2dd94ee58162578'), 'account_id': 881424, 'limit': 10000, 'products': ['InvestmentStock', 'Derivatives']}\n",
            "{'_id': ObjectId('5ca4bbc7a2dd94ee5816264d'), 'account_id': 944895, 'limit': 10000, 'products': ['InvestmentStock', 'CurrencyService', 'Derivatives']}\n",
            "{'_id': ObjectId('5ca4bbc7a2dd94ee58162627'), 'account_id': 619693, 'limit': 10000, 'products': ['Commodity', 'InvestmentFund', 'InvestmentStock']}\n",
            "{'_id': ObjectId('5ca4bbc7a2dd94ee5816272f'), 'account_id': 623937, 'limit': 10000, 'products': ['CurrencyService', 'InvestmentStock', 'InvestmentFund', 'Brokerage']}\n",
            "{'_id': ObjectId('5ca4bbc7a2dd94ee58162790'), 'account_id': 329183, 'limit': 10000, 'products': ['Commodity', 'Brokerage', 'InvestmentFund', 'InvestmentStock']}\n",
            "{'_id': ObjectId('5ca4bbc7a2dd94ee5816284c'), 'account_id': 617243, 'limit': 10000, 'products': ['CurrencyService', 'Brokerage', 'InvestmentFund', 'Derivatives', 'InvestmentStock']}\n",
            "{'_id': ObjectId('5ca4bbc7a2dd94ee58162897'), 'account_id': 149247, 'limit': 10000, 'products': ['Derivatives', 'InvestmentFund', 'Brokerage', 'InvestmentStock']}\n",
            "{'_id': ObjectId('5ca4bbc7a2dd94ee581627bb'), 'account_id': 373260, 'limit': 10000, 'products': ['Brokerage', 'InvestmentStock']}\n",
            "{'_id': ObjectId('5ca4bbc7a2dd94ee581628df'), 'account_id': 486521, 'limit': 10000, 'products': ['InvestmentStock', 'Commodity', 'CurrencyService']}\n",
            "{'_id': ObjectId('5ca4bbc7a2dd94ee58162991'), 'account_id': 541950, 'limit': 10000, 'products': ['Commodity', 'Derivatives', 'InvestmentFund', 'CurrencyService', 'InvestmentStock']}\n",
            "{'_id': ObjectId('5ca4bbc7a2dd94ee581629dc'), 'account_id': 999198, 'limit': 10000, 'products': ['Derivatives', 'InvestmentStock']}\n",
            "{'_id': ObjectId('5ca4bbc7a2dd94ee58162a3d'), 'account_id': 896364, 'limit': 9000, 'products': ['Commodity', 'InvestmentStock']}\n",
            "1745\n"
          ],
          "name": "stdout"
        }
      ]
    },
    {
      "cell_type": "markdown",
      "metadata": {
        "id": "yhF6A6rbJOIb"
      },
      "source": [
        "Not lets use mongodb to acquire the data we need. Here we will aggregate two collections, accounts with transactions. Further, we use the account_id from accounts and link to the foreignField account_id from transactions, similarly as \"join on\" in sql. We rename that transacgtions_link. We will also selection only those records which have account_id less than 370000. "
      ]
    },
    {
      "cell_type": "code",
      "metadata": {
        "id": "r_q7s0C61-Gp"
      },
      "source": [
        "result = accounts.aggregate([\n",
        "    {\n",
        "        '$lookup': {\n",
        "            'from': 'transactions', \n",
        "            'localField': 'account_id', \n",
        "            'foreignField': 'account_id', \n",
        "            'as': 'transactions_link'\n",
        "        }\n",
        "    }, {\n",
        "        '$match': {\n",
        "            '$expr': {\n",
        "                '$gt': [\n",
        "                    370000, '$account_id'\n",
        "                ]\n",
        "            }\n",
        "        }\n",
        "    }\n",
        "])"
      ],
      "execution_count": null,
      "outputs": []
    },
    {
      "cell_type": "markdown",
      "metadata": {
        "id": "RAl7Ko5FJqUR"
      },
      "source": [
        "Let's check the result."
      ]
    },
    {
      "cell_type": "code",
      "metadata": {
        "colab": {
          "base_uri": "https://localhost:8080/"
        },
        "id": "OVowZ8zg2D87",
        "outputId": "3f986cfa-5f22-4626-9e4d-5b860f8b7179"
      },
      "source": [
        "for res in result:\n",
        "  print(res[\"account_id\"],len(res[\"transactions_link\"][0][\"transactions\"]))"
      ],
      "execution_count": null,
      "outputs": [
        {
          "output_type": "stream",
          "text": [
            "212024 32\n",
            "328304 62\n",
            "136137 51\n",
            "228290 66\n",
            "276528 47\n",
            "353465 74\n",
            "135185 47\n",
            "137994 65\n",
            "198100 66\n",
            "304914 65\n",
            "324287 21\n",
            "278603 83\n",
            "260499 94\n",
            "209363 56\n",
            "299072 46\n",
            "330318 72\n",
            "299100 52\n",
            "255695 17\n",
            "199962 26\n",
            "116508 81\n",
            "199711 69\n",
            "327942 55\n",
            "165279 5\n",
            "141237 45\n",
            "109139 80\n",
            "230611 20\n",
            "369055 64\n",
            "147575 19\n",
            "183253 66\n",
            "327520 36\n",
            "84115 75\n",
            "53124 41\n",
            "101383 28\n",
            "59715 93\n",
            "76399 53\n",
            "98267 36\n",
            "296866 96\n",
            "330961 27\n",
            "202669 61\n",
            "59768 98\n",
            "358133 13\n",
            "337979 35\n",
            "359211 87\n",
            "165436 27\n",
            "331043 98\n",
            "244662 67\n",
            "285919 33\n",
            "292277 70\n",
            "111213 13\n",
            "194523 3\n",
            "77032 81\n",
            "303388 9\n",
            "292528 45\n",
            "103346 70\n",
            "155327 87\n",
            "170945 66\n",
            "264514 95\n",
            "226641 19\n",
            "66698 75\n",
            "62713 44\n",
            "349536 29\n",
            "344885 27\n",
            "261248 33\n",
            "278866 100\n",
            "155475 8\n",
            "323636 27\n",
            "130717 34\n",
            "205563 57\n",
            "183400 1\n",
            "271186 60\n",
            "118003 39\n",
            "143720 79\n",
            "343230 98\n",
            "158557 80\n",
            "87965 58\n",
            "226398 46\n",
            "278497 79\n",
            "166084 73\n",
            "160912 68\n",
            "139687 91\n",
            "126833 27\n",
            "356905 88\n",
            "141597 3\n",
            "54977 15\n",
            "312740 5\n",
            "303316 99\n",
            "341068 9\n",
            "85228 22\n",
            "154391 4\n",
            "369761 19\n",
            "139582 93\n",
            "78388 28\n",
            "312052 27\n",
            "130514 27\n",
            "62872 54\n",
            "66589 57\n",
            "317556 7\n",
            "57322 79\n",
            "129238 43\n",
            "240640 97\n",
            "149440 8\n",
            "175894 96\n",
            "120556 75\n",
            "271554 96\n",
            "177069 25\n",
            "235779 77\n",
            "303025 97\n",
            "77397 100\n",
            "328466 50\n",
            "50948 6\n",
            "328627 85\n",
            "199559 21\n",
            "159243 80\n",
            "144469 51\n",
            "131176 54\n",
            "122923 53\n",
            "321695 92\n",
            "233104 70\n",
            "280867 83\n",
            "87191 26\n",
            "96224 38\n",
            "271109 41\n",
            "344523 32\n",
            "55958 10\n",
            "165706 10\n",
            "261796 54\n",
            "316726 25\n",
            "348352 33\n",
            "54368 32\n",
            "51474 8\n",
            "103659 60\n",
            "66611 5\n",
            "87437 82\n",
            "163269 65\n",
            "225602 88\n",
            "87389 23\n",
            "168924 53\n",
            "126444 76\n",
            "329562 99\n",
            "292314 8\n",
            "364643 29\n",
            "88112 28\n",
            "131885 35\n",
            "278149 77\n",
            "300446 68\n",
            "129343 41\n",
            "177814 45\n",
            "132017 13\n",
            "277161 3\n",
            "153460 99\n",
            "273823 48\n",
            "303463 22\n",
            "183917 94\n",
            "358036 36\n",
            "260799 92\n",
            "275355 99\n",
            "300405 35\n",
            "161460 18\n",
            "226865 53\n",
            "156715 98\n",
            "103536 48\n",
            "200611 14\n",
            "167939 77\n",
            "164836 20\n",
            "231223 16\n",
            "136139 17\n",
            "107787 29\n",
            "151378 51\n",
            "354107 4\n",
            "155156 24\n",
            "345766 83\n",
            "317931 91\n",
            "312230 27\n",
            "51080 34\n",
            "236908 95\n",
            "332179 99\n",
            "346408 37\n",
            "116390 2\n",
            "155111 40\n",
            "162007 31\n",
            "77831 44\n",
            "331169 58\n",
            "306033 80\n",
            "300735 29\n",
            "120548 63\n",
            "317282 77\n",
            "203285 9\n",
            "161714 35\n",
            "126668 58\n",
            "325377 23\n",
            "120472 88\n",
            "176639 22\n",
            "55104 78\n",
            "185130 41\n",
            "59819 84\n",
            "249109 58\n",
            "155224 30\n",
            "211992 61\n",
            "175926 19\n",
            "181073 56\n",
            "293516 5\n",
            "86702 20\n",
            "246735 40\n",
            "294632 92\n",
            "287686 47\n",
            "226114 21\n",
            "61329 24\n",
            "356904 15\n",
            "358684 67\n",
            "153224 99\n",
            "145588 84\n",
            "210670 60\n",
            "118127 43\n",
            "347313 54\n",
            "357510 24\n",
            "304450 81\n",
            "298562 36\n",
            "130832 75\n",
            "90117 92\n",
            "319308 35\n",
            "261962 15\n",
            "209755 85\n",
            "356073 53\n",
            "126102 21\n",
            "236337 75\n",
            "182094 82\n",
            "350181 29\n",
            "141474 18\n",
            "114739 11\n",
            "216662 44\n",
            "178000 68\n",
            "152748 29\n",
            "113123 2\n",
            "333075 52\n",
            "122551 68\n",
            "228685 25\n",
            "333315 68\n",
            "238687 93\n",
            "231225 7\n",
            "253017 16\n",
            "190959 61\n",
            "101920 59\n",
            "312758 32\n",
            "171769 9\n",
            "351905 58\n",
            "163788 99\n",
            "207715 87\n",
            "210513 27\n",
            "254176 12\n",
            "235286 83\n",
            "185549 8\n",
            "201771 31\n",
            "57161 10\n",
            "146756 32\n",
            "323481 24\n",
            "122436 20\n",
            "312854 7\n",
            "58303 60\n",
            "305286 80\n",
            "129971 61\n",
            "280758 6\n",
            "88799 41\n",
            "348140 97\n",
            "273420 4\n",
            "235687 83\n",
            "207806 2\n",
            "297819 46\n",
            "105134 88\n",
            "62845 6\n",
            "351069 18\n",
            "120270 48\n",
            "118134 72\n",
            "94177 77\n",
            "326795 29\n",
            "82008 66\n",
            "90414 94\n",
            "69394 21\n",
            "56045 69\n",
            "347967 92\n",
            "150713 54\n",
            "268769 14\n",
            "180092 42\n",
            "214845 35\n",
            "182387 14\n",
            "258443 75\n",
            "182103 19\n",
            "227194 18\n",
            "204117 11\n",
            "351206 77\n",
            "123689 52\n",
            "83355 53\n",
            "109478 67\n",
            "188293 64\n",
            "300879 45\n",
            "179746 27\n",
            "124603 98\n",
            "238139 99\n",
            "253554 1\n",
            "280906 87\n",
            "105098 51\n",
            "214649 58\n",
            "118623 35\n",
            "54685 5\n",
            "360655 81\n",
            "185394 18\n",
            "193987 9\n",
            "51822 35\n",
            "170980 1\n",
            "304730 78\n",
            "86373 54\n",
            "312942 61\n",
            "238373 84\n",
            "124977 74\n",
            "92217 68\n",
            "337202 13\n",
            "245503 90\n",
            "198307 13\n",
            "186687 39\n",
            "206656 29\n",
            "265053 94\n",
            "300714 19\n",
            "103062 13\n",
            "70441 23\n",
            "288877 49\n",
            "228298 83\n",
            "323373 5\n",
            "165597 9\n",
            "177799 72\n",
            "267252 75\n",
            "246018 74\n",
            "147334 77\n",
            "180580 28\n",
            "111287 63\n",
            "329183 4\n",
            "240753 15\n",
            "188363 49\n",
            "219169 98\n",
            "146621 79\n",
            "266920 70\n",
            "244782 47\n",
            "328915 28\n",
            "141868 62\n",
            "206973 10\n",
            "71148 99\n",
            "247853 3\n",
            "201161 49\n",
            "147085 94\n",
            "51645 71\n",
            "129968 17\n",
            "111626 64\n",
            "154492 77\n",
            "168349 44\n",
            "233540 67\n",
            "162572 63\n",
            "168620 22\n",
            "185104 58\n",
            "305656 48\n",
            "301176 56\n",
            "275187 73\n",
            "333684 40\n",
            "202946 43\n",
            "341830 92\n",
            "257801 75\n",
            "271625 74\n",
            "304194 38\n",
            "137090 18\n",
            "249078 89\n",
            "262488 32\n",
            "234369 15\n",
            "292224 35\n",
            "171900 42\n",
            "276878 50\n",
            "243963 61\n",
            "240787 42\n",
            "230586 16\n",
            "154636 76\n",
            "262642 95\n",
            "157990 41\n",
            "285707 44\n",
            "332256 63\n",
            "199407 97\n",
            "212219 97\n",
            "344107 90\n",
            "176390 21\n",
            "320075 92\n",
            "85791 32\n",
            "223583 45\n",
            "368133 35\n",
            "248398 12\n",
            "340147 82\n",
            "149247 26\n",
            "263864 55\n",
            "310074 60\n",
            "174471 78\n",
            "167440 50\n",
            "308785 67\n",
            "68034 16\n",
            "292438 77\n",
            "222581 60\n",
            "141586 96\n",
            "140557 92\n",
            "299822 50\n",
            "51253 53\n",
            "278669 29\n",
            "261128 17\n",
            "172950 30\n",
            "86494 38\n",
            "83546 4\n",
            "133163 73\n",
            "287076 45\n",
            "89466 90\n",
            "218214 81\n",
            "112468 24\n",
            "60664 12\n",
            "293111 20\n",
            "239538 12\n",
            "339678 9\n",
            "332860 45\n",
            "339477 26\n",
            "212579 10\n",
            "184422 52\n",
            "260504 24\n",
            "79999 71\n",
            "289795 67\n",
            "222322 53\n",
            "265862 97\n",
            "131201 54\n",
            "214555 37\n",
            "285957 67\n",
            "71674 82\n",
            "336601 6\n",
            "198855 55\n",
            "308680 7\n",
            "363138 27\n",
            "205355 53\n",
            "289492 19\n",
            "155366 8\n",
            "201862 27\n",
            "87409 75\n",
            "132536 29\n",
            "328686 58\n",
            "59378 23\n",
            "333642 88\n",
            "147275 83\n",
            "129932 76\n",
            "240685 47\n",
            "317852 17\n",
            "79985 8\n",
            "126092 74\n",
            "187107 96\n",
            "193228 74\n",
            "362683 9\n",
            "97500 23\n",
            "215284 91\n",
            "133274 30\n",
            "351402 63\n",
            "308492 32\n",
            "208252 58\n",
            "315164 91\n",
            "181212 24\n",
            "350748 6\n",
            "335182 19\n",
            "243254 14\n",
            "63141 40\n",
            "189806 11\n",
            "363315 1\n",
            "74632 1\n",
            "368168 47\n",
            "195007 23\n",
            "360452 1\n",
            "88163 13\n",
            "90019 71\n",
            "138634 12\n",
            "225930 88\n",
            "328105 57\n",
            "242287 58\n",
            "355301 11\n",
            "333677 30\n",
            "265264 56\n",
            "65661 67\n",
            "335665 6\n",
            "322023 70\n",
            "308215 47\n",
            "117971 92\n",
            "310737 27\n",
            "326212 42\n",
            "175615 30\n",
            "95914 46\n",
            "238662 86\n",
            "67224 25\n",
            "302149 67\n",
            "131371 75\n",
            "95826 88\n",
            "164260 43\n",
            "327655 58\n",
            "69218 70\n",
            "130610 57\n",
            "229182 4\n",
            "130870 76\n",
            "122908 56\n",
            "174786 36\n",
            "177869 32\n",
            "317449 53\n",
            "301773 47\n",
            "264502 20\n",
            "344075 24\n",
            "134905 58\n",
            "229899 82\n",
            "77690 90\n",
            "279899 25\n",
            "76339 52\n",
            "357823 82\n",
            "297499 87\n",
            "100721 48\n",
            "321208 88\n",
            "255267 57\n",
            "237182 43\n",
            "153377 90\n",
            "313926 89\n",
            "89646 86\n",
            "350483 15\n",
            "161597 31\n",
            "96431 99\n",
            "147641 72\n",
            "287485 12\n",
            "51617 100\n",
            "267947 6\n",
            "162819 75\n",
            "82071 34\n",
            "134434 100\n",
            "235824 93\n",
            "218657 37\n",
            "307731 83\n",
            "212417 30\n",
            "222061 26\n",
            "181984 25\n",
            "146967 80\n",
            "181687 76\n",
            "59275 79\n",
            "313907 41\n",
            "142442 24\n",
            "365969 15\n",
            "89698 86\n",
            "351063 17\n",
            "248380 73\n",
            "311880 97\n",
            "158757 31\n",
            "177004 60\n",
            "360322 71\n",
            "187397 26\n",
            "232492 70\n",
            "138703 94\n",
            "179020 83\n",
            "150321 62\n",
            "120917 37\n",
            "135875 41\n",
            "223693 67\n",
            "201361 71\n",
            "363061 23\n",
            "314671 22\n",
            "327916 33\n",
            "55473 31\n",
            "73934 53\n",
            "144876 53\n",
            "82467 85\n",
            "323327 54\n",
            "87286 27\n",
            "109710 53\n",
            "97487 89\n",
            "96021 56\n",
            "249810 17\n",
            "225728 71\n",
            "206062 87\n",
            "171129 36\n",
            "291224 67\n",
            "225511 59\n",
            "352837 11\n",
            "226253 7\n",
            "272399 64\n",
            "157495 10\n",
            "352008 32\n",
            "255004 3\n",
            "211212 56\n",
            "218101 30\n",
            "70492 75\n",
            "270514 1\n",
            "309490 61\n"
          ],
          "name": "stdout"
        }
      ]
    },
    {
      "cell_type": "markdown",
      "metadata": {
        "id": "6DtcspKeJ2_g"
      },
      "source": [
        "Same story but we could the results."
      ]
    },
    {
      "cell_type": "code",
      "metadata": {
        "id": "9mc7HsNT2PkC"
      },
      "source": [
        "result = accounts.aggregate([\n",
        "    {\n",
        "        '$lookup': {\n",
        "            'from': 'transactions', \n",
        "            'localField': 'account_id', \n",
        "            'foreignField': 'account_id', \n",
        "            'as': 'transactions_link'\n",
        "        }\n",
        "    }, {\n",
        "        '$match': {\n",
        "            '$expr': {\n",
        "                '$gt': [\n",
        "                    370000, '$account_id'\n",
        "                ]\n",
        "            }\n",
        "        }\n",
        "    }, {\n",
        "        '$count': 'account_id'\n",
        "    }\n",
        "])"
      ],
      "execution_count": null,
      "outputs": []
    },
    {
      "cell_type": "code",
      "metadata": {
        "colab": {
          "base_uri": "https://localhost:8080/"
        },
        "id": "zMB18iv26NK2",
        "outputId": "2f8ba293-92ec-4147-f3f0-bfd5471e1549"
      },
      "source": [
        "for res in result:\n",
        "  print(res)"
      ],
      "execution_count": null,
      "outputs": [
        {
          "output_type": "stream",
          "text": [
            "{'account_id': 588}\n"
          ],
          "name": "stdout"
        }
      ]
    },
    {
      "cell_type": "markdown",
      "metadata": {
        "id": "v2BpYo676zw1"
      },
      "source": [
        "If you want check the results by putting transactions and accounts into two different pandas dataframes and merging them with sql.\n",
        "For the NoSQL-report the MongoDB query is needed. Using the syntax in the find is enough. You could double check using the pandas approach though."
      ]
    },
    {
      "cell_type": "markdown",
      "metadata": {
        "id": "cyOgPWV7L-5p"
      },
      "source": [
        "**Weiterführende Fragen:**\n",
        "\n",
        "Kannst du auswählen, welche account_id transactions mit weniger als 30 Elemente haben?\n",
        "Welche account hat die älteste transactions?\n",
        "Überlege noch 1-2 komplexe Fragen in diesem Datensatz."
      ]
    }
  ]
}
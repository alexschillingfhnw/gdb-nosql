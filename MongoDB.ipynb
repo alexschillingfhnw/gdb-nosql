{
 "cells": [
  {
   "cell_type": "markdown",
   "metadata": {},
   "source": [
    "# GDB LE5 Bericht"
   ]
  },
  {
   "cell_type": "markdown",
   "metadata": {},
   "source": [
    "### Welche Datenbank hast Du gewählt?\n",
    "MongoDB \n",
    "\n",
    "### Warum hast Du diese gewählt?\n",
    "Wir haben Mongo DB ausgewählt, weil es open source ist und gut strukturierte Testdaten anbietet. Wir haben vom MongoDB Cloud die Datenbank \"mflix\" für die Abfragen ausgesucht. Nach Recherche haben wir herausgefunden, dass MongoDB folgende Vorteile hat und dass es die beliebteste NoSQL Datenbank ist:\n",
    "- Leistung -> Abfrageleistung in MongoDB ist viel schneller\n",
    "- Einfachheit -> einfache Query Sprache\n",
    "- Flexibilität -> sehr dynamische Schaltplanarchitektur für unstrukturierte Daten\n",
    "- Skalierbarkeit -> erleichtert die Erhöhung der Speicherkapazität.\n",
    "\n",
    "### Wie sehen die Daten aus?\n",
    "In MongoDB werden Daten als Dokumente gespeichert. Diese Dokumente werden in MongoDB im JSON-Format (JavaScript Object Notation) gespeichert. JSON-Dokumente unterstützen eingebettete Felder, sodass verwandte Daten und Datenlisten mit dem Dokument anstelle einer externen Tabelle gespeichert werden können. Die Tabellen in MongoDB heissen Collections und haben keine Datenstrukturschema verglichen mit relationale Datenbanken.\n",
    "\n",
    "### Inwiefern ist das besser als eine relationale Datenbank?\n",
    "- Geeignet für hierarchische Datenspeicherung\n",
    "- Es ist horizontal skalierbar, d. h. wir können weitere Server hinzufügen.\n",
    "- Es hat ein dynamisches Schema.\n",
    "- Es ist fast 100-mal schneller als relationale Datenbanken.\n",
    "- Es unterstützt die JSON-Query zusammen mit SQL.\n",
    "\n",
    "### Wie sehen komplexe Fragestellungen (Abfrage) zu den Daten aus, und warum sind sie komplex? Vergleiche es mit eine SQL, würde es komplizierter sein, welche Vorteile gibt es gegenüber SQL?\n",
    "Bei einfachen Abfragen werden die Daten nur abgelesen, jedoch bei komplexen Abfragen werden sie gefiltert, verarbeitet und mit anderen Daten zusammengefügt (kombiniert)"
   ]
  },
  {
   "cell_type": "markdown",
   "metadata": {},
   "source": [
    "### Unsere Abfragen\n",
    "#### Abfrage 1\n",
    "Was ist die durchschnittliche Bewertung aller Filme in der Schweiz?\n",
    "\n",
    "#### Abfrage 2\n",
    "Welche Filme wurden vor 1970 gedreht und haben mehr als 100 Kommentare?\n",
    "\n",
    "#### Abfrage 3\n",
    "Welche 10 Filme haben die meisten Kommentare?\n",
    "\n",
    "#### Abfrage 4\n",
    "Was sind die besten fünf Schweizer Filme in Bezug auf die Schweizer Durchschnittsbewertung?\n",
    "\n",
    "#### Abfrage 5\n",
    "Welche Genre hat die meisten Auszeichnungen (Awards)\n",
    "\n",
    "#### Abfrage 6\n",
    "Welcher Bundesstaat besitzt die meisten Theater?"
   ]
  },
  {
   "cell_type": "markdown",
   "metadata": {},
   "source": [
    "### Code (Vorbereitung)\n",
    "Zuerst müssen wir uns mit dem MongoDB Cloud verbinden und die gewünschte Datenbank \"mflix\" auswählen."
   ]
  },
  {
   "cell_type": "code",
   "execution_count": 32,
   "metadata": {},
   "outputs": [],
   "source": [
    "from pymongo import MongoClient\n",
    "import urllib\n",
    "import pandas\n",
    "import configparser\n",
    "import pprint\n",
    "\n",
    "config = configparser.ConfigParser()\n",
    "config.read('config.ini')\n",
    "\n",
    "db_username = config[\"MongoDB\"][\"username\"]\n",
    "db_password = config[\"MongoDB\"][\"password\"]\n",
    "db_hostname = config[\"MongoDB\"][\"hostname\"]\n",
    "db_link = config[\"MongoDB\"][\"link\"]"
   ]
  },
  {
   "cell_type": "code",
   "execution_count": 133,
   "metadata": {
    "scrolled": true
   },
   "outputs": [
    {
     "name": "stdout",
     "output_type": "stream",
     "text": [
      "147.86.207.49\n"
     ]
    },
    {
     "name": "stderr",
     "output_type": "stream",
     "text": [
      "  % Total    % Received % Xferd  Average Speed   Time    Time     Time  Current\n",
      "                                 Dload  Upload   Total   Spent    Left  Speed\n",
      "\n",
      "  0     0    0     0    0     0      0      0 --:--:-- --:--:-- --:--:--     0\n",
      "100    13  100    13    0     0    100      0 --:--:-- --:--:-- --:--:--   100\n"
     ]
    }
   ],
   "source": [
    "!curl ipecho.net/plain"
   ]
  },
  {
   "cell_type": "code",
   "execution_count": 36,
   "metadata": {
    "id": "u8rPYngceVte"
   },
   "outputs": [],
   "source": [
    "# Verbindung mit Mongo Atlas\n",
    "client = MongoClient('mongodb+srv://{}:{}@{}.{}.mongodb.net/sample_mflix'.format(db_username, db_password, db_hostname, db_link))\n",
    "db = client.sample_mflix"
   ]
  },
  {
   "cell_type": "code",
   "execution_count": 37,
   "metadata": {
    "colab": {
     "base_uri": "https://localhost:8080/"
    },
    "id": "TyvpxwgXjPAv",
    "outputId": "b34b3c7e-9cd2-46a8-f28a-3311fb372707"
   },
   "outputs": [
    {
     "data": {
      "text/plain": [
       "['sessions', 'users', 'movies', 'theaters', 'comments']"
      ]
     },
     "execution_count": 37,
     "metadata": {},
     "output_type": "execute_result"
    }
   ],
   "source": [
    "# Collections der Datenbank anzeigen\n",
    "db.list_collection_names()"
   ]
  },
  {
   "cell_type": "markdown",
   "metadata": {},
   "source": [
    "### Frage 1\n",
    "#### Was ist die durchschnittliche Bewertung aller Filme in der Schweiz?"
   ]
  },
  {
   "cell_type": "code",
   "execution_count": 72,
   "metadata": {},
   "outputs": [
    {
     "name": "stdout",
     "output_type": "stream",
     "text": [
      "{'averageRating': 6.890000000000001}\n"
     ]
    }
   ],
   "source": [
    "pipeline = db.movies.aggregate([\n",
    "    {\n",
    "        '$match': {\n",
    "            'countries': 'Switzerland'\n",
    "        }\n",
    "    }, {\n",
    "        '$group': {\n",
    "            '_id': {\n",
    "                '$first': '$rating'\n",
    "            }, \n",
    "            'averageRating': {\n",
    "                '$avg': '$imdb.rating'\n",
    "            }\n",
    "        }\n",
    "    }, {\n",
    "        '$project': {\n",
    "            'rating': 0, \n",
    "            '_id': 0\n",
    "        }\n",
    "    }\n",
    "])\n",
    "\n",
    "for var in pipeline:\n",
    "    pprint.pprint(var)"
   ]
  },
  {
   "cell_type": "markdown",
   "metadata": {},
   "source": [
    "### Frage 2\n",
    "#### Welche Filme wurden vor 1970 gedreht und haben mehr als 100 Kommentare?"
   ]
  },
  {
   "cell_type": "code",
   "execution_count": 98,
   "metadata": {},
   "outputs": [
    {
     "name": "stdout",
     "output_type": "stream",
     "text": [
      "{'comment_amount': 153, 'movie_title': 'Cinderella'}\n",
      "{'comment_amount': 139, 'movie_title': 'The Wizard of Oz'}\n",
      "{'comment_amount': 134, 'movie_title': 'The Jungle Book'}\n",
      "{'comment_amount': 128, 'movie_title': 'Mary Poppins'}\n",
      "{'comment_amount': 126, 'movie_title': 'Lady and the Tramp'}\n",
      "{'comment_amount': 118, 'movie_title': '101 Dalmatians'}\n"
     ]
    }
   ],
   "source": [
    "pipeline = db.movies.aggregate([\n",
    "    {\n",
    "        '$addFields': {\n",
    "            'movie_id': {\n",
    "                '$toString': '$_id'\n",
    "            }\n",
    "        }\n",
    "    }, {\n",
    "        '$lookup': {\n",
    "            'from': 'comments', \n",
    "            'localField': '_id', \n",
    "            'foreignField': 'movie_id', \n",
    "            'as': 'comments'\n",
    "        }\n",
    "    }, {\n",
    "        '$match': {\n",
    "            'year': {\n",
    "                '$lt': 1970\n",
    "            }, \n",
    "            'num_mflix_comments': {\n",
    "                '$gt': 100\n",
    "            }\n",
    "        }\n",
    "    }, {\n",
    "        '$sort': {\n",
    "            'num_mflix_comments': -1\n",
    "        }\n",
    "    }, {\n",
    "        '$project': {\n",
    "            '_id': 0, \n",
    "            'movie_title': '$title', \n",
    "            'comment_amount': '$num_mflix_comments'\n",
    "        }\n",
    "    }\n",
    "])\n",
    "\n",
    "for var in pipeline:\n",
    "    pprint.pprint(var)"
   ]
  },
  {
   "cell_type": "markdown",
   "metadata": {},
   "source": [
    "### Frage 3\n",
    "#### Welche 10 Filme haben die meisten Kommentare?"
   ]
  },
  {
   "cell_type": "code",
   "execution_count": 81,
   "metadata": {},
   "outputs": [
    {
     "name": "stdout",
     "output_type": "stream",
     "text": [
      "{'commentAmount': 161, 'title': 'The Taking of Pelham 1 2 3'}\n",
      "{'commentAmount': 158, 'title': 'Terminator Salvation'}\n",
      "{'commentAmount': 158, 'title': 'About a Boy'}\n",
      "{'commentAmount': 158, 'title': '50 First Dates'}\n",
      "{'commentAmount': 158, 'title': \"Ocean's Eleven\"}\n",
      "{'commentAmount': 157, 'title': 'The Mummy'}\n",
      "{'commentAmount': 157, 'title': 'Sherlock Holmes'}\n",
      "{'commentAmount': 155, 'title': 'Hellboy II: The Golden Army'}\n",
      "{'commentAmount': 154, 'title': 'The Mummy Returns'}\n",
      "{'commentAmount': 154, 'title': 'Anchorman: The Legend of Ron Burgundy'}\n"
     ]
    }
   ],
   "source": [
    "pipeline = db.comments.aggregate([\n",
    "    {\n",
    "        '$group': {\n",
    "            '_id': {\n",
    "                'movie_id': '$movie_id'\n",
    "            }, \n",
    "            'commentAmount': {\n",
    "                '$sum': 1\n",
    "            }\n",
    "        }\n",
    "    }, {\n",
    "        '$match': {\n",
    "            'commentAmount': {\n",
    "                '$gt': 1\n",
    "            }\n",
    "        }\n",
    "    }, {\n",
    "        '$sort': {\n",
    "            'commentAmount': -1\n",
    "        }\n",
    "    }, {\n",
    "        '$lookup': {\n",
    "            'from': 'movies', \n",
    "            'localField': '_id.movie_id', \n",
    "            'foreignField': '_id', \n",
    "            'as': 'movie'\n",
    "        }\n",
    "    }, {\n",
    "        '$addFields': {\n",
    "            'title': {\n",
    "                '$first': '$movie.title'\n",
    "            }\n",
    "        }\n",
    "    }, {\n",
    "        '$limit': 10\n",
    "    }, {\n",
    "        '$project': {\n",
    "            '_id': 0, \n",
    "            'title': 1, \n",
    "            'commentAmount': 1\n",
    "        }\n",
    "    }\n",
    "])\n",
    "\n",
    "for var in pipeline:\n",
    "    pprint.pprint(var)"
   ]
  },
  {
   "cell_type": "markdown",
   "metadata": {},
   "source": [
    "### Frage 4\n",
    "#### Was sind die besten fünf Schweizer Filme in Bezug auf die Schweizer Durchschnittsbewertung?"
   ]
  },
  {
   "cell_type": "code",
   "execution_count": 117,
   "metadata": {},
   "outputs": [
    {
     "name": "stdout",
     "output_type": "stream",
     "text": [
      "{'averageRating': 6.890000000000001,\n",
      " 'rating': 8.8,\n",
      " 'title': 'Shining Night: A Portrait of Composer Morten Lauridsen'}\n",
      "{'averageRating': 6.890000000000001, 'rating': 8.5, 'title': 'Satantango'}\n",
      "{'averageRating': 6.890000000000001,\n",
      " 'rating': 8.4,\n",
      " 'title': 'The Sorrow and the Pity'}\n",
      "{'averageRating': 6.890000000000001,\n",
      " 'rating': 8.3,\n",
      " 'title': 'The Sorrow and the Pity'}\n",
      "{'averageRating': 6.890000000000001, 'rating': 8.2, 'title': 'Yol'}\n"
     ]
    }
   ],
   "source": [
    "pipeline1 = db.movies.aggregate([\n",
    "    {\n",
    "        '$match': {\n",
    "            'countries': 'Switzerland', \n",
    "            'imdb.rating': {\n",
    "                '$gt': 0\n",
    "            }\n",
    "        }\n",
    "    }, {\n",
    "        '$addFields': {\n",
    "            'movie_id': '$_id'\n",
    "        }\n",
    "    }, {\n",
    "        '$group': {\n",
    "            '_id': None, \n",
    "            'avgRating': {\n",
    "                '$avg': '$imdb.rating'\n",
    "            }, \n",
    "            'id': {\n",
    "                '$addToSet': '$movie_id'\n",
    "            }\n",
    "        }\n",
    "    }, {\n",
    "        '$unwind': {\n",
    "            'path': '$id'\n",
    "        }\n",
    "    }, {\n",
    "        '$lookup': {\n",
    "            'from': 'movies', \n",
    "            'localField': 'id', \n",
    "            'foreignField': '_id', \n",
    "            'as': 'movie'\n",
    "        }\n",
    "    }, {\n",
    "        '$unwind': {\n",
    "            'path': '$movie'\n",
    "        }\n",
    "    }, {\n",
    "        '$sort': {\n",
    "            'movie.imdb.rating': -1\n",
    "        }\n",
    "    }, {\n",
    "        '$limit': 5\n",
    "    },{\n",
    "        '$project': {\n",
    "            '_id': 0,\n",
    "            'averageRating': '$avgRating',\n",
    "            'title': '$movie.title',\n",
    "            'rating': '$movie.imdb.rating'\n",
    "        }\n",
    "    }\n",
    "])\n",
    "\n",
    "for var in pipeline1:\n",
    "    pprint.pprint(var)"
   ]
  },
  {
   "cell_type": "markdown",
   "metadata": {},
   "source": [
    "### Frage 5\n",
    "#### Welches sind die Filme mit den meisten Auszeichnungen pro Genre und wie viele Auszeichnungen sind das total?"
   ]
  },
  {
   "cell_type": "code",
   "execution_count": 124,
   "metadata": {},
   "outputs": [
    {
     "name": "stdout",
     "output_type": "stream",
     "text": [
      "{'average_awards_genre': 8.416393442622951,\n",
      " 'awards': 267,\n",
      " 'difference_to_average': '3072.38%',\n",
      " 'genre': 'Biography',\n",
      " 'movie': 'Regeneration'}\n",
      "{'average_awards_genre': 6.365384615384615,\n",
      " 'awards': 231,\n",
      " 'difference_to_average': '3529%',\n",
      " 'genre': 'Sci-Fi',\n",
      " 'movie': 'Rocketship X-M'}\n",
      "{'average_awards_genre': 3.2322533673097924,\n",
      " 'awards': 210,\n",
      " 'difference_to_average': '6397.02%',\n",
      " 'genre': 'Comedy',\n",
      " 'movie': 'The Poor Little Rich Girl'}\n",
      "{'average_awards_genre': 5.077719510555331,\n",
      " 'awards': 185,\n",
      " 'difference_to_average': '3543.37%',\n",
      " 'genre': 'Drama',\n",
      " 'movie': 'In the Land of the Head Hunters'}\n",
      "{'average_awards_genre': 4.8954545454545455,\n",
      " 'awards': 175,\n",
      " 'difference_to_average': '3474.74%',\n",
      " 'genre': 'Adventure',\n",
      " 'movie': 'The Last of the Mohicans'}\n",
      "{'average_awards_genre': 4.986496624156039,\n",
      " 'awards': 172,\n",
      " 'difference_to_average': '3349.32%',\n",
      " 'genre': 'Crime',\n",
      " 'movie': 'Traffic in Souls'}\n",
      "{'average_awards_genre': 3.3172205438066467,\n",
      " 'awards': 162,\n",
      " 'difference_to_average': '4783.61%',\n",
      " 'genre': 'Action',\n",
      " 'movie': 'The Perils of Pauline'}\n",
      "{'average_awards_genre': 4.108695652173913,\n",
      " 'awards': 85,\n",
      " 'difference_to_average': '1968.78%',\n",
      " 'genre': 'Animation',\n",
      " 'movie': 'Winsor McCay, the Famous Cartoonist of the N.Y. Herald and His '\n",
      "          'Moving Comics'}\n",
      "{'average_awards_genre': 4.579710144927536,\n",
      " 'awards': 67,\n",
      " 'difference_to_average': '1362.97%',\n",
      " 'genre': 'Western',\n",
      " 'movie': 'The Iron Horse'}\n",
      "{'average_awards_genre': 2.7586370089919545,\n",
      " 'awards': 57,\n",
      " 'difference_to_average': '1966.24%',\n",
      " 'genre': 'Documentary',\n",
      " 'movie': 'Nanook of the North'}\n",
      "{'average_awards_genre': 3.6608695652173915,\n",
      " 'awards': 54,\n",
      " 'difference_to_average': '1375.06%',\n",
      " 'genre': 'Mystery',\n",
      " 'movie': 'The 39 Steps'}\n",
      "{'average_awards_genre': 1.874074074074074,\n",
      " 'awards': 54,\n",
      " 'difference_to_average': '2781.42%',\n",
      " 'genre': 'Family',\n",
      " 'movie': 'Skippy'}\n",
      "{'average_awards_genre': 2.8636363636363638,\n",
      " 'awards': 45,\n",
      " 'difference_to_average': '1471.43%',\n",
      " 'genre': 'Musical',\n",
      " 'movie': 'The Broadway Melody'}\n",
      "{'average_awards_genre': 2.3526785714285716,\n",
      " 'awards': 34,\n",
      " 'difference_to_average': '1345.16%',\n",
      " 'genre': 'Thriller',\n",
      " 'movie': 'The Spy in Black'}\n",
      "{'average_awards_genre': 1.7751842751842752,\n",
      " 'awards': 29,\n",
      " 'difference_to_average': '1533.63%',\n",
      " 'genre': 'Horror',\n",
      " 'movie': 'Nosferatu'}\n",
      "{'average_awards_genre': 2.3793103448275863,\n",
      " 'awards': 26,\n",
      " 'difference_to_average': '992.754%',\n",
      " 'genre': 'Romance',\n",
      " 'movie': \"Hell's Hinges\"}\n",
      "{'average_awards_genre': 3.1420454545454546,\n",
      " 'awards': 24,\n",
      " 'difference_to_average': '663.834%',\n",
      " 'genre': 'Short',\n",
      " 'movie': 'Blacksmith Scene'}\n",
      "{'average_awards_genre': 3.6153846153846154,\n",
      " 'awards': 17,\n",
      " 'difference_to_average': '370.213%',\n",
      " 'genre': 'History',\n",
      " 'movie': 'Battleship Potemkin'}\n",
      "{'average_awards_genre': 3.2222222222222223,\n",
      " 'awards': 16,\n",
      " 'difference_to_average': '396.552%',\n",
      " 'genre': 'Music',\n",
      " 'movie': 'One Night of Love'}\n",
      "{'average_awards_genre': 1.6752136752136753,\n",
      " 'awards': 12,\n",
      " 'difference_to_average': '616.327%',\n",
      " 'genre': 'Fantasy',\n",
      " 'movie': 'The Blue Bird'}\n",
      "{'average_awards_genre': 1.9655172413793103,\n",
      " 'awards': 12,\n",
      " 'difference_to_average': '510.526%',\n",
      " 'genre': None,\n",
      " 'movie': 'The Blood of a Poet'}\n",
      "{'average_awards_genre': 2.40625,\n",
      " 'awards': 11,\n",
      " 'difference_to_average': '357.143%',\n",
      " 'genre': 'War',\n",
      " 'movie': 'Bataan'}\n",
      "{'average_awards_genre': 5.0,\n",
      " 'awards': 5,\n",
      " 'difference_to_average': '0%',\n",
      " 'genre': 'Sport',\n",
      " 'movie': 'The Yankles'}\n",
      "{'average_awards_genre': 3.0,\n",
      " 'awards': 5,\n",
      " 'difference_to_average': '66.6667%',\n",
      " 'genre': 'Film-Noir',\n",
      " 'movie': 'Spellbound'}\n"
     ]
    }
   ],
   "source": [
    "pipeline1 = db.movies.aggregate([\n",
    "    {\n",
    "        '$group': {\n",
    "            '_id': {\n",
    "                '$first': '$genres'\n",
    "            }, \n",
    "            'movie_title': {\n",
    "                '$first': '$title'\n",
    "            }, \n",
    "            'most_awards': {\n",
    "                '$max': '$awards.wins'\n",
    "            }, \n",
    "            'avg_awards': {\n",
    "                '$avg': '$awards.wins'\n",
    "            }\n",
    "        }\n",
    "    }, {\n",
    "        '$addFields': {\n",
    "            'difference': {\n",
    "                '$concat': [\n",
    "                    {\n",
    "                        '$toString': {\n",
    "                            '$subtract': [\n",
    "                                {\n",
    "                                    '$multiply': [\n",
    "                                        {\n",
    "                                            '$divide': [\n",
    "                                                '$most_awards', '$avg_awards'\n",
    "                                            ]\n",
    "                                        }, 100\n",
    "                                    ]\n",
    "                                }, 100\n",
    "                            ]\n",
    "                        }\n",
    "                    }, '%'\n",
    "                ]\n",
    "            }\n",
    "        }\n",
    "    }, {\n",
    "        '$sort': {\n",
    "            'most_awards': -1\n",
    "        }\n",
    "    }, {\n",
    "        '$project': {\n",
    "            '_id': 0, \n",
    "            'genre': '$_id', \n",
    "            'movie': '$movie_title', \n",
    "            'awards': '$most_awards', \n",
    "            'average_awards_genre': '$avg_awards', \n",
    "            'difference_to_average': '$difference'\n",
    "        }\n",
    "    }\n",
    "])\n",
    "\n",
    "for var in pipeline1:\n",
    "    pprint.pprint(var)"
   ]
  },
  {
   "cell_type": "markdown",
   "metadata": {},
   "source": [
    "### Frage 6\n",
    "#### Welche 15 Städte haben die meisten Theater und in welchem Bundesstaat befinden sie sich?"
   ]
  },
  {
   "cell_type": "code",
   "execution_count": 130,
   "metadata": {},
   "outputs": [
    {
     "name": "stdout",
     "output_type": "stream",
     "text": [
      "{'city': 'Las Vegas', 'city_theaters': 29, 'state': 'NV', 'state_theaters': 39}\n",
      "{'city': 'Houston', 'city_theaters': 22, 'state': 'TX', 'state_theaters': 160}\n",
      "{'city': 'San Antonio',\n",
      " 'city_theaters': 14,\n",
      " 'state': 'TX',\n",
      " 'state_theaters': 160}\n",
      "{'city': 'Orlando', 'city_theaters': 13, 'state': 'FL', 'state_theaters': 111}\n",
      "{'city': 'Dallas', 'city_theaters': 12, 'state': 'TX', 'state_theaters': 160}\n",
      "{'city': 'Los Angeles',\n",
      " 'city_theaters': 12,\n",
      " 'state': 'CA',\n",
      " 'state_theaters': 169}\n",
      "{'city': 'Atlanta', 'city_theaters': 10, 'state': 'GA', 'state_theaters': 45}\n",
      "{'city': 'Jacksonville',\n",
      " 'city_theaters': 9,\n",
      " 'state': 'FL',\n",
      " 'state_theaters': 111}\n",
      "{'city': 'San Francisco',\n",
      " 'city_theaters': 9,\n",
      " 'state': 'CA',\n",
      " 'state_theaters': 169}\n",
      "{'city': 'Chicago', 'city_theaters': 8, 'state': 'IL', 'state_theaters': 70}\n",
      "{'city': 'New York', 'city_theaters': 8, 'state': 'NY', 'state_theaters': 81}\n",
      "{'city': 'Miami', 'city_theaters': 8, 'state': 'FL', 'state_theaters': 111}\n",
      "{'city': 'San Diego', 'city_theaters': 8, 'state': 'CA', 'state_theaters': 169}\n",
      "{'city': 'Columbus', 'city_theaters': 8, 'state': 'OH', 'state_theaters': 52}\n",
      "{'city': 'Minneapolis', 'city_theaters': 8, 'state': 'MN', 'state_theaters': 44}\n"
     ]
    }
   ],
   "source": [
    "pipeline = db.theaters.aggregate([\n",
    "    {\n",
    "        '$group': {\n",
    "            '_id': '$location.address.state', \n",
    "            'state_amount': {\n",
    "                '$sum': 1\n",
    "            }\n",
    "        }\n",
    "    }, {\n",
    "        '$sort': {\n",
    "            'state_amount': -1\n",
    "        }\n",
    "    }, {\n",
    "        '$lookup': {\n",
    "            'from': 'theaters', \n",
    "            'localField': '_id', \n",
    "            'foreignField': 'location.address.state', \n",
    "            'as': 'theaters'\n",
    "        }\n",
    "    }, {\n",
    "        '$unwind': {\n",
    "            'path': '$theaters'\n",
    "        }\n",
    "    }, {\n",
    "        '$group': {\n",
    "            '_id': '$theaters.location.address.city', \n",
    "            'city_theaters': {\n",
    "                '$sum': 1\n",
    "            }, \n",
    "            'state': {\n",
    "                '$first': '$theaters.location.address.state'\n",
    "            }, \n",
    "            'state_theaters': {\n",
    "                '$first': '$state_amount'\n",
    "            }\n",
    "        }\n",
    "    }, {\n",
    "        '$sort': {\n",
    "            'city_theaters': -1\n",
    "        }\n",
    "    }, {\n",
    "        '$limit': 15\n",
    "    }, {\n",
    "        '$project': {\n",
    "            '_id': 0, \n",
    "            'state': 1, \n",
    "            'state_theaters': 1, \n",
    "            'city': '$_id', \n",
    "            'city_theaters': 1\n",
    "        }\n",
    "    }\n",
    "])\n",
    "    \n",
    "for var in pipeline:\n",
    "    pprint.pprint(var)"
   ]
  },
  {
   "cell_type": "code",
   "execution_count": null,
   "metadata": {},
   "outputs": [],
   "source": []
  }
 ],
 "metadata": {
  "colab": {
   "name": "MongoDB.ipynb",
   "provenance": []
  },
  "kernelspec": {
   "display_name": "Python 3",
   "language": "python",
   "name": "python3"
  },
  "language_info": {
   "codemirror_mode": {
    "name": "ipython",
    "version": 3
   },
   "file_extension": ".py",
   "mimetype": "text/x-python",
   "name": "python",
   "nbconvert_exporter": "python",
   "pygments_lexer": "ipython3",
   "version": "3.8.8"
  }
 },
 "nbformat": 4,
 "nbformat_minor": 1
}

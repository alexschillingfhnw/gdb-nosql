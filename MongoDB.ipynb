{
 "cells": [
  {
   "cell_type": "markdown",
   "metadata": {},
   "source": [
    "# GDB LE5: Nicht-relationale Datenbanken lesen"
   ]
  },
  {
   "cell_type": "markdown",
   "metadata": {},
   "source": [
    "## Aufgabenstellung\n",
    "Du solltest ein Datenset auswählen, der **besser** in einer NoSQL Datenbank (als in einer relationalen) passt und dich mit der Datenbank und mit den Daten auseinandersetzen.\n",
    "\n",
    "Damit wir Deinen Weg und Lernerfolg einschätzen können benötigen wir von Dir eine kurze Zusammenfassung.\n",
    "\n",
    "In dieser Zusammenfassung sollen folgende Fragen beantwortet werden:\n",
    "\n",
    "1. Wie sehen die Daten aus?\n",
    "2. Welche Datenbank hast Du gewählt?\n",
    "3. Warum hast Du diese gewählt?\n",
    "4. Inwiefern ist das besser als eine relationale Datenbank?\n",
    "5. Wie sehen komplexe Fragestellungen (Abfrage) zu den Daten aus, und warum sind sie komplex? Vergleiche es mit eine SQL, würde es komplizierter sein, welche Vorteile gibt es gegenüber SQL?"
   ]
  },
  {
   "cell_type": "markdown",
   "metadata": {},
   "source": [
    "Bevor wir diese Fragen beantworten können, müssen wir die Verbindung zur Datenbank erstellen."
   ]
  },
  {
   "cell_type": "markdown",
   "metadata": {},
   "source": [
    "### Vorbereitung"
    "MongoDB, weil... Mongo DB = Document orientated Database / Open source / Endless Scaleability / good structured test data\n",
    "\n",
    "\n"
   ]
  },
  {
   "cell_type": "markdown",
   "metadata": {},
   "source": [
    "### Datenset Entscheidung"
   ]
  },
  {
   "cell_type": "markdown",
   "metadata": {},
   "source": [
    "Analytics, weil..."
   ]
  },
  {
   "cell_type": "code",
   "execution_count": 34,
   "metadata": {},
   "outputs": [],
   "source": [
    "from pymongo import MongoClient\n",
    "import urllib\n",
    "import pandas\n",
    "import configparser\n",
    "import pprint\n",
    "\n",
    "config = configparser.ConfigParser()\n",
    "config.read('config.ini')\n",
    "\n",
    "db_username = config[\"MongoDB\"][\"username\"]\n",
    "db_password = config[\"MongoDB\"][\"password\"]\n",
    "db_hostname = config[\"MongoDB\"][\"hostname\"]\n",
    "db_link = config[\"MongoDB\"][\"link\"]\n",
    "\n",
    "jsonp = pprint.pprint"
   ]
  },
  {
   "cell_type": "code",
   "execution_count": 35,
   "metadata": {
    "scrolled": true
   },
   "outputs": [
    {
     "name": "stdout",
     "output_type": "stream",
     "text": [
      "147.86.207.49\n"
     ]
    },
    {
     "name": "stderr",
     "output_type": "stream",
     "text": [
      "  % Total    % Received % Xferd  Average Speed   Time    Time     Time  Current\n",
      "                                 Dload  Upload   Total   Spent    Left  Speed\n",
      "\n",
      "  0     0    0     0    0     0      0      0 --:--:-- --:--:-- --:--:--     0\n",
      "100    13  100    13    0     0    100      0 --:--:-- --:--:-- --:--:--   100\n"
     ]
    }
   ],
   "source": [
    "# IP Adresse ausgeben\n",
    "!curl ipecho.net/plain"
   ]
  },
  {
   "cell_type": "code",
   "execution_count": 36,
   "metadata": {
    "id": "u8rPYngceVte"
   },
   "outputs": [],
   "source": [
    "# Verbindung zur MongoDB Atlas\n",
    "client = MongoClient('mongodb+srv://{}:{}@{}.{}.mongodb.net/sample_analytics'.format(db_username, db_password, db_hostname, db_link))\n",
    "db = client.sample_analytics"
   ]
  },
  {
   "cell_type": "markdown",
   "metadata": {},
   "source": [
    "### Aufgabe 1 - Wie sehen die Daten aus?\n",
    "\n",
    "Um unsere Daten besser analysieren zu können müssen wir die Daten zuerst verstehen."
   ]
  },
  {
   "cell_type": "code",
   "execution_count": 37,
   "metadata": {},
   "outputs": [
    {
     "data": {
      "text/plain": [
       "['customers', 'transactions', 'accounts']"
      ]
     },
     "execution_count": 37,
     "metadata": {},
     "output_type": "execute_result"
    }
   ],
   "source": [
    "# Collections der Datenbank ausgeben\n",
    "db.list_collection_names()"
   ]
  },
  {
   "cell_type": "markdown",
   "metadata": {},
   "source": [
    "Hier sehen wir, dass die Datenbank \"sample_analytics\" 3 Tabellen hat:\n",
    "- customers\n",
    "- transactions\n",
    "- accounts\n",
    "\n",
    "Jetzt nehmen wir die einzelnen Collections genauer unter die Lupe, um zu schauen was für Daten beinhaltet sind. Dafür schreiben wir eine Methode, die alle Attribute der Collection zu einer Liste hinzufügt. Als Parameter wird ein Collection übergeben"
   ]
  },
  {
   "cell_type": "code",
   "execution_count": 38,
   "metadata": {},
   "outputs": [],
   "source": [
    "def check_collection(cursor):\n",
    "    attributes = []\n",
    "    # Attribute in der Collection ausgeben\n",
    "    for document in cursor.find():\n",
    "        for i in document:\n",
    "            if i not in attributes:\n",
    "                attributes.append(i)       \n",
    "    return attributes"
   ]
  },
  {
   "cell_type": "code",
   "execution_count": 39,
   "metadata": {},
   "outputs": [
    {
     "name": "stdout",
     "output_type": "stream",
     "text": [
      "Attribute von Accounts: ['_id', 'account_id', 'limit', 'products']\n",
      "Attribute von Customers: ['_id', 'username', 'name', 'address', 'birthdate', 'email', 'active', 'accounts', 'tier_and_details']\n",
      "Attribute von Transactions: ['_id', 'account_id', 'transaction_count', 'bucket_start_date', 'bucket_end_date', 'transactions']\n"
     ]
    }
   ],
   "source": [
    "print(\"Attribute von Accounts: {}\".format(check_collection(db.accounts)))\n",
    "print(\"Attribute von Customers: {}\".format(check_collection(db.customers)))\n",
    "print(\"Attribute von Transactions: {}\".format(check_collection(db.transactions)))"
   ]
  },
  {
   "cell_type": "markdown",
   "metadata": {},
   "source": [
    "### Aufgabe 2 - Welche Datenbank hast Du gewählt?"
   ]
  },
  {
   "cell_type": "markdown",
   "metadata": {},
   "source": [
    "Für die NoSQL Datenbank haben wir uns für MongoDB entschieden."
   ]
  },
  {
   "cell_type": "markdown",
   "metadata": {},
   "source": [
    "### Aufgabe 3 - Warum hast Du diese gewählt?"
   ]
  },
  {
   "cell_type": "markdown",
   "metadata": {},
   "source": [
    "Analytics, weil..."
   ]
  },
  {
   "cell_type": "markdown",
   "metadata": {},
   "source": [
    "### Aufgabe 4 - Inwiefern ist das besser als eine relationale Datenbank?"
   ]
  },
  {
   "cell_type": "markdown",
   "metadata": {},
   "source": [
    "### Aufgabe 5 - Wie sehen komplexe Fragestellungen zu den Daten aus?"
   ]
  },
  {
   "cell_type": "markdown",
   "metadata": {},
   "source": [
    "#### Warum sind sie komplex?"
   ]
  },
  {
   "cell_type": "markdown",
   "metadata": {},
   "source": [
    "#### Vergleich mit SQL"
   ]
  },
  {
   "cell_type": "markdown",
   "metadata": {},
   "source": [
    "#### Vorteile gegenüber SQL?"
   ]
  },
  {
   "cell_type": "markdown",
   "metadata": {},
   "source": [
    "### Fragen:\n",
    "\n",
    "1. Wie viele Kunden haben eine Limite unter 10000?\n",
    "2. Wie viele Kunden haben \"Brokerage\"?\n",
    "4. Was für Produkte hat Kunde '446747'?\n",
    "3. Was ist das meist vorkommende Produkt?"
   ]
  },
  {
   "cell_type": "code",
   "execution_count": 40,
   "metadata": {},
   "outputs": [],
   "source": [
    "# \"Accounts\" Collection auswählen\n",
    "cursor = db.accounts"
   ]
  },
  {
   "cell_type": "code",
   "execution_count": 41,
   "metadata": {},
   "outputs": [
    {
     "name": "stdout",
     "output_type": "stream",
     "text": [
      "45\n"
     ]
    }
   ],
   "source": [
    "# Frage 1\n",
    "\n",
    "count = 0\n",
    "for i in cursor.find({\"limit\": {\"$lt\": 10000}}):\n",
    "    count += 1\n",
    "    \n",
    "print(count)"
   ]
  },
  {
   "cell_type": "code",
   "execution_count": 45,

   "metadata": {},
   "outputs": [
    {
     "name": "stdout",
     "output_type": "stream",
     "text": [
      "{'unter 10000': 45}\n"
     ]
    }
   ],
   "source": [
    "# Frage 1 Aggregate\n",
    "\n",
    "result = cursor.aggregate([{\"$match\": { \"$expr\": { \"$gt\": [10000, \"$limit\"]}}}, {\"$count\": \"unter 10000\"}])\n",
    "\n",
    "for res in result:\n",
    "    print(res)"
   ]
  },
  {
   "cell_type": "code",
   "execution_count": null,
   "metadata": {},
   "outputs": [],
   "source": [
    "# Frage 2\n",
    "\n",
    "count = 0\n",
    "for res in cursor.find({\"products\": \"Brokerage\"}):\n",
    "    count += 1\n",
    "\n",
    "print(count)"
   ]
  },
  {
   "cell_type": "code",
   "execution_count": 46,
   "metadata": {},
   "outputs": [
    {
     "name": "stdout",
     "output_type": "stream",
     "text": [
      "{'Brokerage': 741}\n"
     ]
    }
   ],
   "source": [
    "# Frage 2 Aggregate\n",
    "\n",
    "result = cursor.aggregate([{\"$match\": {\"products\": \"Brokerage\"}}, {\"$count\": \"Brokerage\"}])\n",
    "\n",
    "for res in result:\n",
    "    print(res)"
   ]
  },
  {
   "cell_type": "code",
   "execution_count": 44,
   "metadata": {},
   "outputs": [
    {
     "name": "stdout",
     "output_type": "stream",
     "text": [
      "- Derivatives\n",
      "- Commodity\n",
      "- Brokerage\n",
      "- InvestmentStock\n"
     ]
    }
   ],
   "source": [
    "# Frage 3\n",
    "\n",
    "results = cursor.find({\"account_id\": 446747})\n",
    "\n",
    "for result in results:\n",
    "    for x in result[\"products\"]:\n",
    "        print(\"- {}\".format(x))"
   ]
  },
  {
   "cell_type": "code",
   "execution_count": null,
   "metadata": {},
   "outputs": [],
   "source": [
    "# Frage 3 Aggregate\n",
    "\n",
    "result = accounts.aggregate([{\"$match\": {\"account_id\": 446747}}])\n",
    "\n",
    "for res in result:\n",
    "    print(res[\"products\"])"
   ]
  },
  {
   "cell_type": "code",
   "execution_count": null,
   "metadata": {},
   "outputs": [],
   "source": [
    "# Frage 4 (Hard coded)\n",
    "\n",
    "print(\"Was ist das meist vorkommende Produkt?\")\n",
    "\n",
    "result = accounts.find()\n",
    "\n",
    "der_count = 0\n",
    "inv_s_count = 0\n",
    "comm_count = 0\n",
    "broke_count = 0\n",
    "curr_s = 0\n",
    "inv_f_count = 0\n",
    "\n",
    "for res in result:\n",
    "    if \"Derivatives\" in res[\"products\"]:\n",
    "        der_count += 1\n",
    "    if \"InvestmentStock\" in res[\"products\"]:\n",
    "        inv_s_count += 1\n",
    "    if \"Commodity\" in res[\"products\"]:\n",
    "        comm_count += 1\n",
    "    if \"Brokerage\" in res[\"products\"]:\n",
    "        broke_count += 1\n",
    "    if \"CurrencyService\" in res[\"products\"]:\n",
    "        curr_s += 1\n",
    "    if \"InvestmentFund\" in res[\"products\"]:\n",
    "        inv_f_count += 1\n",
    "\n",
    "print(der_count)\n",
    "print(inv_s_count)\n",
    "print(comm_count)\n",
    "print(broke_count)\n",
    "print(curr_s)\n",
    "print(inv_f_count)"
   ]
  },
  {
   "cell_type": "markdown",
   "metadata": {},
   "source": [
    "- Adresse\n",
    "- Geburtsdatum\n",
    "- Liste von accounts\n",
    "- Benefits:\n",
    "- Tierlist von Benefits: Platinum, Gold, Silber, Bronze\n",
    "\n",
    "\n",
    "### Fragen über Customers:\n",
    "\n",
    "1. Was ist die Durchschnittsalter der Kunden?\n",
    "https://stackoverflow.com/questions/39381450/convert-date-difference-to-years-to-calculate-age-in-mongodb\n",
    "2. Was ist die Durchschnittsalter von Platinum Kunden?\n",
    "3. Wie viele Kunden sind ausserhalb von der USA wohnhaft?\n",
    "4. Wie viele haben kein Abo?\n",
    "5. Welches Abo haben die meisten Kunden?"
   ]
  },
  {
   "cell_type": "code",
   "execution_count": 59,
   "metadata": {},
   "outputs": [],
   "source": [
    "# \"Accounts\" Collection auswählen\n",
    "cursor = db.customers"
   ]
  },
  {
   "cell_type": "code",
   "execution_count": 81,
   "metadata": {},
   "outputs": [
    {
     "name": "stdout",
     "output_type": "stream",
     "text": [
      "39.264\n"
     ]
    }
   ],
   "source": [
    "import datetime\n",
    "import numpy as np\n",
    "\n",
    "result = cursor.aggregate([\n",
    "    {\n",
    "        '$project': {\n",
    "            'birthdate': 1,\n",
    "            '_id': 0\n",
    "        }\n",
    "    }\n",
    "])\n",
    "\n",
    "birthday = \"\"\n",
    "ages = []\n",
    "\n",
    "for res in result:\n",
    "    birthday = res.get(\"birthdate\")\n",
    "    birthday = birthday.strftime(\"%Y,%m,%d\")       \n",
    "    dob = datetime.datetime.strptime(birthday, '%Y,%m,%d')\n",
    "    today = datetime.date.today()\n",
    "    ages.append(today.year - dob.year - ((today.month, today.day) < (dob .month, dob .day)))\n",
    "    \n",
    "print(np.mean(ages))\n"
   ]
  },
  {
   "cell_type": "code",
   "execution_count": null,
   "metadata": {},
   "outputs": [],
   "source": []
  },
  {
   "cell_type": "markdown",
   "metadata": {},
   "source": [
    "### MongoDB Einleitung (ignorieren)"
   ]
  },
  {
   "cell_type": "markdown",
   "metadata": {
    "id": "xXUeGYdtInF6"
   },
   "source": [
    "Interestingly the result is not a collection: https://docs.mongodb.com/manual/reference/method/db.collection.find/index.html"
   ]
  },
  {
   "cell_type": "code",
   "execution_count": null,
   "metadata": {
    "colab": {
     "base_uri": "https://localhost:8080/"
    },
    "id": "tPvttfKn2mbj",
    "outputId": "8bf75e36-18fc-4852-d68d-f6d38b024505"
   },
   "outputs": [],
   "source": [
    "for i1,res in enumerate(result):\n",
    "  if i1%100==0:\n",
    "    print(res)\n",
    "print(i1)"
   ]
  },
  {
   "cell_type": "markdown",
   "metadata": {
    "id": "yhF6A6rbJOIb"
   },
   "source": [
    "Now lets use mongodb to acquire the data we need. Here we will aggregate two collections, accounts with transactions. Further, we use the account_id from accounts and link to the foreignField account_id from transactions, similarly as \"join on\" in sql. We rename that transactions_link. We will also select only those records which have account_id less than 370000. "
   ]
  },
  {
   "cell_type": "code",
   "execution_count": null,
   "metadata": {
    "id": "r_q7s0C61-Gp"
   },
   "outputs": [],
   "source": [
    "result = accounts.aggregate([\n",
    "    {\n",
    "        '$lookup': {\n",
    "            'from': 'transactions', \n",
    "            'localField': 'account_id', \n",
    "            'foreignField': 'account_id', \n",
    "            'as': 'transactions_link'\n",
    "        }\n",
    "    }, {\n",
    "        '$match': {\n",
    "            '$expr': {\n",
    "                '$gt': [\n",
    "                    370000, '$account_id'\n",
    "                ]\n",
    "            }\n",
    "        }\n",
    "    }\n",
    "])"
   ]
  },
  {
   "cell_type": "markdown",
   "metadata": {
    "id": "RAl7Ko5FJqUR"
   },
   "source": [
    "Let's check the result."
   ]
  },
  {
   "cell_type": "code",
   "execution_count": null,
   "metadata": {
    "colab": {
     "base_uri": "https://localhost:8080/"
    },
    "id": "OVowZ8zg2D87",
    "outputId": "3f986cfa-5f22-4626-9e4d-5b860f8b7179"
   },
   "outputs": [],
   "source": [
    "for res in result:\n",
    "  print(res[\"account_id\"],len(res[\"transactions_link\"][0][\"transactions\"]))"
   ]
  },
  {
   "cell_type": "markdown",
   "metadata": {
    "id": "6DtcspKeJ2_g"
   },
   "source": [
    "Same story but we could the results."
   ]
  },
  {
   "cell_type": "code",
   "execution_count": null,
   "metadata": {
    "id": "9mc7HsNT2PkC"
   },
   "outputs": [],
   "source": [
    "result = accounts.aggregate([\n",
    "    {\n",
    "        '$lookup': {\n",
    "            'from': 'transactions', \n",
    "            'localField': 'account_id', \n",
    "            'foreignField': 'account_id', \n",
    "            'as': 'transactions_link'\n",
    "        }\n",
    "    }, {\n",
    "        '$match': {\n",
    "            '$expr': {\n",
    "                '$gt': [\n",
    "                    370000, '$account_id'\n",
    "                ]\n",
    "            }\n",
    "        }\n",
    "    }, {\n",
    "        '$count': 'account_id'\n",
    "    }\n",
    "])"
   ]
  },
  {
   "cell_type": "code",
   "execution_count": null,
   "metadata": {
    "colab": {
     "base_uri": "https://localhost:8080/"
    },
    "id": "zMB18iv26NK2",
    "outputId": "2f8ba293-92ec-4147-f3f0-bfd5471e1549"
   },
   "outputs": [],
   "source": [
    "for res in result:\n",
    "  print(res)"
   ]
  },
  {
   "cell_type": "markdown",
   "metadata": {
    "id": "v2BpYo676zw1"
   },
   "source": [
    "If you want check the results by putting transactions and accounts into two different pandas dataframes and merging them with sql.\n",
    "For the NoSQL-report the MongoDB query is needed. Using the syntax in the find is enough. You could double check using the pandas approach though."
   ]
  },
  {
   "cell_type": "markdown",
   "metadata": {
    "id": "cyOgPWV7L-5p"
   },
   "source": [
    "**Weiterführende Fragen:**\n",
    "\n",
    "Kannst du auswählen, welche account_id transactions mit weniger als 30 Elemente haben?\n",
    "Welche account hat die älteste transactions?\n",
    "Überlege noch 1-2 komplexe Fragen in diesem Datensatz."
   ]
  },
  {
   "cell_type": "code",
   "execution_count": 45,
   "metadata": {},
   "outputs": [
    {
     "name": "stdout",
     "output_type": "stream",
     "text": [
      "Collection(Database(MongoClient(host=['cluster0-shard-00-02.n19fa.mongodb.net:27017', 'cluster0-shard-00-00.n19fa.mongodb.net:27017', 'cluster0-shard-00-01.n19fa.mongodb.net:27017'], document_class=dict, tz_aware=False, connect=True, authsource='admin', replicaset='atlas-4nc0zr-shard-0', ssl=True), 'sample_analytics'), 'transactions')\n"
     ]
    }
   ],
   "source": [
    "print(cursor)"
   ]
  },
  {
   "cell_type": "code",
   "execution_count": null,
   "metadata": {},
   "outputs": [],
   "source": []
  }
 ],
 "metadata": {
  "colab": {
   "name": "MongoDB.ipynb",
   "provenance": []
  },
  "kernelspec": {
   "display_name": "Python 3",
   "language": "python",
   "name": "python3"
  },
  "language_info": {
   "codemirror_mode": {
    "name": "ipython",
    "version": 3
   },
   "file_extension": ".py",
   "mimetype": "text/x-python",
   "name": "python",
   "nbconvert_exporter": "python",
   "pygments_lexer": "ipython3",
   "version": "3.8.8"
  }
 },
 "nbformat": 4,
 "nbformat_minor": 1
}

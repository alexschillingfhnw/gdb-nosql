{
 "cells": [
  {
   "cell_type": "markdown",
   "metadata": {},
   "source": [
    "# GDB LE5: Nicht-relationale Datenbanken lesen"
   ]
  },
  {
   "cell_type": "markdown",
   "metadata": {},
   "source": [
    "## Aufgabe\n",
    "Du solltest ein Datenset auswählen, der **besser** in einer NoSQL Datenbank (als in einer relationalen) passt und dich mit der Datenbank und mit den Daten auseinandersetzen.\n",
    "\n",
    "Damit wir Deinen Weg und Lernerfolg einschätzen können benötigen wir von Dir eine kurze Zusammenfassung.\n",
    "\n",
    "In dieser Zusammenfassung sollen folgende Fragen beantwortet werden:\n",
    "\n",
    "- Wie sehen die Daten aus?\n",
    "- Welche Datenbank hast Du gewählt?\n",
    "- Warum hast Du diese gewählt?\n",
    "- Inwiefern ist das besser als eine relationale Datenbank?\n",
    "- Wie sehen komplexe Fragestellungen (Abfrage) zu den Daten aus, und warum sind sie komplex? Vergleiche es mit eine SQL, würde es komplizierter sein, welche Vorteile gibt es gegenüber SQL?"
   ]
  },
  {
   "cell_type": "markdown",
   "metadata": {},
   "source": [
    "### NoSQL Datenbank Entscheidung"
   ]
  },
  {
   "cell_type": "markdown",
   "metadata": {},
   "source": [
    "MongoDB, weil..."
   ]
  },
  {
   "cell_type": "markdown",
   "metadata": {},
   "source": [
    "### Datenset Entscheidung"
   ]
  },
  {
   "cell_type": "markdown",
   "metadata": {},
   "source": [
    "Analytics, weil..."
   ]
  },
  {
   "cell_type": "code",
   "execution_count": 1,
   "metadata": {},
   "outputs": [],
   "source": [
    "from pymongo import MongoClient\n",
    "import urllib\n",
    "import pandas\n",
    "import configparser\n",
    "import pprint\n",
    "\n",
    "db_username = 'dbuser'\n",
    "db_password = 'dbuserpw'\n",
    "db_hostname = 'cluster0'"
   ]
  },
  {
   "cell_type": "markdown",
   "metadata": {
    "id": "E3k7RpYNH-XI"
   },
   "source": [
    "Connect to the Mongo Atlas"
   ]
  },
  {
   "cell_type": "code",
   "execution_count": 14,
   "metadata": {
    "id": "u8rPYngceVte"
   },
   "outputs": [],
   "source": [
    "client = MongoClient('mongodb+srv://{}:{}@{}.gshpm.mongodb.net/sample_analytics'.format(db_username, db_password, db_hostname))\n",
    "db = client.sample_analytics"
   ]
  },
  {
   "cell_type": "markdown",
   "metadata": {
    "id": "OBCgjOAAIGTY"
   },
   "source": [
    "With the following code you can check the type and which attributes/functions you can do with the object/instance \"db\".\n"
   ]
  },
  {
   "cell_type": "code",
   "execution_count": 15,
   "metadata": {
    "colab": {
     "base_uri": "https://localhost:8080/"
    },
    "id": "exuxTv-7jAQR",
    "outputId": "87dde45a-85d3-4909-82c8-c59ff73be923"
   },
   "outputs": [
    {
     "name": "stdout",
     "output_type": "stream",
     "text": [
      "<class 'pymongo.database.Database'> ['_BaseObject__codec_options', '_BaseObject__read_concern', '_BaseObject__read_preference', '_BaseObject__write_concern', '_Database__client', '_Database__incoming_copying_manipulators', '_Database__incoming_manipulators', '_Database__name', '_Database__outgoing_copying_manipulators', '_Database__outgoing_manipulators', '__call__', '__class__', '__delattr__', '__dict__', '__dir__', '__doc__', '__eq__', '__format__', '__ge__', '__getattr__', '__getattribute__', '__getitem__', '__gt__', '__hash__', '__init__', '__init_subclass__', '__iter__', '__le__', '__lt__', '__module__', '__ne__', '__new__', '__next__', '__reduce__', '__reduce_ex__', '__repr__', '__setattr__', '__sizeof__', '__str__', '__subclasshook__', '__weakref__', '_apply_incoming_copying_manipulators', '_apply_incoming_manipulators', '_command', '_create_or_update_user', '_current_op', '_default_role', '_fix_incoming', '_fix_outgoing', '_list_collections', '_read_preference_for', '_retryable_read_command', '_write_concern_for', 'add_son_manipulator', 'add_user', 'aggregate', 'authenticate', 'client', 'codec_options', 'collection_names', 'command', 'create_collection', 'current_op', 'dereference', 'drop_collection', 'error', 'eval', 'get_collection', 'incoming_copying_manipulators', 'incoming_manipulators', 'last_status', 'list_collection_names', 'list_collections', 'logout', 'name', 'next', 'outgoing_copying_manipulators', 'outgoing_manipulators', 'previous_error', 'profiling_info', 'profiling_level', 'read_concern', 'read_preference', 'remove_user', 'reset_error_history', 'set_profiling_level', 'system_js', 'validate_collection', 'watch', 'with_options', 'write_concern']\n"
     ]
    }
   ],
   "source": [
    "print(type(db),dir(db))"
   ]
  },
  {
   "cell_type": "markdown",
   "metadata": {
    "id": "-u8ZG_5rIRb3"
   },
   "source": [
    "Let's list which collections are in this database"
   ]
  },
  {
   "cell_type": "code",
   "execution_count": 16,
   "metadata": {
    "colab": {
     "base_uri": "https://localhost:8080/"
    },
    "id": "TyvpxwgXjPAv",
    "outputId": "b34b3c7e-9cd2-46a8-f28a-3311fb372707"
   },
   "outputs": [
    {
     "data": {
      "text/plain": [
       "['customers', 'transactions', 'accounts']"
      ]
     },
     "execution_count": 16,
     "metadata": {},
     "output_type": "execute_result"
    }
   ],
   "source": [
    "db.list_collection_names()"
   ]
  },
  {
   "cell_type": "markdown",
   "metadata": {
    "id": "j51fZj6wIVSW"
   },
   "source": [
    "Just checking the status of the server and connections."
   ]
  },
  {
   "cell_type": "code",
   "execution_count": 17,
   "metadata": {
    "colab": {
     "base_uri": "https://localhost:8080/"
    },
    "id": "PcJVFw5bjWmp",
    "outputId": "2e7adb1d-8311-4c29-91ba-ccd129c838be"
   },
   "outputs": [
    {
     "data": {
      "text/plain": [
       "{'host': 'cluster0-shard-00-02.gshpm.mongodb.net:27017',\n",
       " 'version': '4.4.10',\n",
       " 'process': 'mongod',\n",
       " 'pid': 268508,\n",
       " 'uptime': 575519.0,\n",
       " 'uptimeMillis': 575518639,\n",
       " 'uptimeEstimate': 575518,\n",
       " 'localTime': datetime.datetime(2021, 10, 26, 8, 55, 4, 585000),\n",
       " 'asserts': {'regular': 0, 'warning': 0, 'msg': 0, 'user': 0, 'rollovers': 0},\n",
       " 'connections': {'current': 4, 'available': 496, 'totalCreated': 57},\n",
       " 'extra_info': {'note': 'fields vary by platform', 'page_faults': 0},\n",
       " 'network': {'bytesIn': 319336551, 'bytesOut': 21486707, 'numRequests': 1291},\n",
       " 'opcounters': {'insert': 424057,\n",
       "  'query': 12,\n",
       "  'update': 0,\n",
       "  'delete': 0,\n",
       "  'getmore': 4,\n",
       "  'command': 837},\n",
       " 'opcountersRepl': {'insert': 0,\n",
       "  'query': 0,\n",
       "  'update': 0,\n",
       "  'delete': 0,\n",
       "  'getmore': 0,\n",
       "  'command': 0},\n",
       " 'repl': {'topologyVersion': {'processId': ObjectId('616efa4979e5c6643da3212d'),\n",
       "   'counter': 6},\n",
       "  'hosts': ['cluster0-shard-00-00.gshpm.mongodb.net:27017',\n",
       "   'cluster0-shard-00-01.gshpm.mongodb.net:27017',\n",
       "   'cluster0-shard-00-02.gshpm.mongodb.net:27017'],\n",
       "  'setName': 'atlas-s4vzoi-shard-0',\n",
       "  'setVersion': 7,\n",
       "  'ismaster': True,\n",
       "  'secondary': False,\n",
       "  'primary': 'cluster0-shard-00-02.gshpm.mongodb.net:27017',\n",
       "  'tags': {'region': 'EU_CENTRAL_1',\n",
       "   'provider': 'AWS',\n",
       "   'nodeType': 'ELECTABLE',\n",
       "   'workloadType': 'OPERATIONAL'},\n",
       "  'me': 'cluster0-shard-00-02.gshpm.mongodb.net:27017',\n",
       "  'electionId': ObjectId('7fffffff000000000000006b'),\n",
       "  'lastWrite': {'opTime': {'ts': Timestamp(1635238504, 7), 't': 107},\n",
       "   'lastWriteDate': datetime.datetime(2021, 10, 26, 8, 55, 4),\n",
       "   'majorityOpTime': {'ts': Timestamp(1635238504, 7), 't': 107},\n",
       "   'majorityWriteDate': datetime.datetime(2021, 10, 26, 8, 55, 4)},\n",
       "  'rbid': 1},\n",
       " 'storageEngine': {'name': 'wiredTiger',\n",
       "  'supportsCommittedReads': True,\n",
       "  'oldestRequiredTimestampForCrashRecovery': Timestamp(1635238473, 1),\n",
       "  'supportsPendingDrops': True,\n",
       "  'dropPendingIdents': 0,\n",
       "  'supportsTwoPhaseIndexBuild': True,\n",
       "  'supportsSnapshotReadConcern': True,\n",
       "  'readOnly': False,\n",
       "  'persistent': True,\n",
       "  'backupCursorOpen': False},\n",
       " 'mem': {'bits': 64,\n",
       "  'resident': 0,\n",
       "  'virtual': 0,\n",
       "  'supported': True,\n",
       "  'mapped': 0,\n",
       "  'mappedWithJournal': 0},\n",
       " 'metrics': {'aggStageCounters': {'search': 0, 'searchBeta': 0},\n",
       "  'atlas': {'connectionPool': {'totalCreated': 32357}}},\n",
       " 'ok': 1.0,\n",
       " '$clusterTime': {'clusterTime': Timestamp(1635238504, 7),\n",
       "  'signature': {'hash': b'*\\x94vV;\\x82\\xc4)v\\xad\\xde;\\xc0p\\xa4\\xccN\\x00\\xbc\\xe4',\n",
       "   'keyId': 6968873828361437185}},\n",
       " 'operationTime': Timestamp(1635238504, 7),\n",
       " 'opLatencies': {'reads': {'latency': 816412, 'ops': 31},\n",
       "  'writes': {'latency': 344994275, 'ops': 438},\n",
       "  'commands': {'latency': 752526414, 'ops': 819}},\n",
       " 'atlasVersion': {'version': '20211005.0.0.1633092820',\n",
       "  'gitVersion': '65acfa15a9334a2fef071a106ccab4f5c565bca3'}}"
      ]
     },
     "execution_count": 17,
     "metadata": {},
     "output_type": "execute_result"
    }
   ],
   "source": [
    "client.admin.command(\"serverStatus\")"
   ]
  },
  {
   "cell_type": "markdown",
   "metadata": {
    "id": "3B7b4YNsIbCn"
   },
   "source": [
    "Let's get the account collection."
   ]
  },
  {
   "cell_type": "code",
   "execution_count": 18,
   "metadata": {
    "id": "JCKbIGoPssiJ"
   },
   "outputs": [],
   "source": [
    "accounts= db.accounts"
   ]
  },
  {
   "cell_type": "markdown",
   "metadata": {
    "id": "aREXiqlcIfKX"
   },
   "source": [
    "Print out the type, check that it is a collection: https://docs.mongodb.com/manual/core/databases-and-collections/."
   ]
  },
  {
   "cell_type": "code",
   "execution_count": 19,
   "metadata": {
    "colab": {
     "base_uri": "https://localhost:8080/"
    },
    "id": "xBUIFFts16T_",
    "outputId": "f5847e1e-63c8-4a72-f46e-1941df0b90e8"
   },
   "outputs": [
    {
     "data": {
      "text/plain": [
       "pymongo.collection.Collection"
      ]
     },
     "execution_count": 19,
     "metadata": {},
     "output_type": "execute_result"
    }
   ],
   "source": [
    "type(accounts)"
   ]
  },
  {
   "cell_type": "markdown",
   "metadata": {
    "id": "TaV7Ldp0IkPb"
   },
   "source": [
    "Let's get the data from it."
   ]
  },
  {
   "cell_type": "code",
   "execution_count": 20,
   "metadata": {
    "id": "Ys8pfcgx2hDJ"
   },
   "outputs": [],
   "source": [
    "result = accounts.find()"
   ]
  },
  {
   "cell_type": "markdown",
   "metadata": {
    "id": "xXUeGYdtInF6"
   },
   "source": [
    "Interestingly the result is not a collection: https://docs.mongodb.com/manual/reference/method/db.collection.find/index.html"
   ]
  },
  {
   "cell_type": "code",
   "execution_count": 21,
   "metadata": {
    "colab": {
     "base_uri": "https://localhost:8080/"
    },
    "id": "TaPLE67S2jpK",
    "outputId": "364ed832-24d1-4cd7-d987-9b37531707a8"
   },
   "outputs": [
    {
     "data": {
      "text/plain": [
       "pymongo.cursor.Cursor"
      ]
     },
     "execution_count": 21,
     "metadata": {},
     "output_type": "execute_result"
    }
   ],
   "source": [
    "type(result)"
   ]
  },
  {
   "cell_type": "markdown",
   "metadata": {
    "id": "kdZtbDeVJD04"
   },
   "source": [
    "dir will tell you that result( Cursor) has a method next, which can be used to iterate through, let's iterate. Be aware, after iterating, the result will be empty (so you could save the data in a list)."
   ]
  },
  {
   "cell_type": "code",
   "execution_count": 22,
   "metadata": {
    "colab": {
     "base_uri": "https://localhost:8080/"
    },
    "id": "tPvttfKn2mbj",
    "outputId": "8bf75e36-18fc-4852-d68d-f6d38b024505"
   },
   "outputs": [
    {
     "name": "stdout",
     "output_type": "stream",
     "text": [
      "{'_id': ObjectId('5ca4bbc7a2dd94ee5816238c'), 'account_id': 371138, 'limit': 9000, 'products': ['Derivatives', 'InvestmentStock']}\n",
      "{'_id': ObjectId('5ca4bbc7a2dd94ee581623f2'), 'account_id': 168924, 'limit': 10000, 'products': ['InvestmentFund', 'CurrencyService', 'InvestmentStock']}\n",
      "{'_id': ObjectId('5ca4bbc7a2dd94ee58162457'), 'account_id': 951849, 'limit': 10000, 'products': ['Brokerage', 'InvestmentStock']}\n",
      "{'_id': ObjectId('5ca4bbc7a2dd94ee581624bb'), 'account_id': 66698, 'limit': 10000, 'products': ['InvestmentStock', 'Commodity', 'Derivatives', 'CurrencyService']}\n",
      "{'_id': ObjectId('5ca4bbc7a2dd94ee5816251f'), 'account_id': 136139, 'limit': 10000, 'products': ['CurrencyService', 'InvestmentFund', 'InvestmentStock']}\n",
      "{'_id': ObjectId('5ca4bbc7a2dd94ee58162583'), 'account_id': 785218, 'limit': 10000, 'products': ['Commodity', 'InvestmentStock']}\n",
      "{'_id': ObjectId('5ca4bbc7a2dd94ee581625e7'), 'account_id': 145588, 'limit': 10000, 'products': ['Derivatives', 'InvestmentFund', 'InvestmentStock']}\n",
      "{'_id': ObjectId('5ca4bbc7a2dd94ee5816264b'), 'account_id': 273420, 'limit': 8000, 'products': ['InvestmentStock', 'InvestmentFund']}\n",
      "{'_id': ObjectId('5ca4bbc7a2dd94ee581626af'), 'account_id': 674132, 'limit': 10000, 'products': ['Derivatives', 'Commodity', 'Brokerage', 'InvestmentStock']}\n",
      "{'_id': ObjectId('5ca4bbc7a2dd94ee58162713'), 'account_id': 975329, 'limit': 10000, 'products': ['CurrencyService', 'Derivatives', 'InvestmentStock']}\n",
      "{'_id': ObjectId('5ca4bbc7a2dd94ee58162777'), 'account_id': 847533, 'limit': 10000, 'products': ['InvestmentStock', 'InvestmentFund', 'CurrencyService']}\n",
      "{'_id': ObjectId('5ca4bbc7a2dd94ee581627db'), 'account_id': 423152, 'limit': 10000, 'products': ['InvestmentStock', 'InvestmentFund', 'Derivatives', 'Brokerage']}\n",
      "{'_id': ObjectId('5ca4bbc7a2dd94ee5816283f'), 'account_id': 701602, 'limit': 10000, 'products': ['InvestmentStock', 'Commodity', 'Derivatives', 'InvestmentFund']}\n",
      "{'_id': ObjectId('5ca4bbc7a2dd94ee581628a3'), 'account_id': 263864, 'limit': 10000, 'products': ['CurrencyService', 'InvestmentStock', 'Derivatives', 'Commodity']}\n",
      "{'_id': ObjectId('5ca4bbc7a2dd94ee58162907'), 'account_id': 498050, 'limit': 10000, 'products': ['InvestmentStock', 'Commodity', 'InvestmentFund', 'Brokerage']}\n",
      "{'_id': ObjectId('5ca4bbc7a2dd94ee5816296b'), 'account_id': 621061, 'limit': 10000, 'products': ['CurrencyService', 'Brokerage', 'Commodity', 'InvestmentStock']}\n",
      "{'_id': ObjectId('5ca4bbc7a2dd94ee581629cf'), 'account_id': 892096, 'limit': 10000, 'products': ['InvestmentFund', 'Brokerage', 'InvestmentStock']}\n",
      "{'_id': ObjectId('5ca4bbc7a2dd94ee58162a33'), 'account_id': 429071, 'limit': 10000, 'products': ['Commodity', 'Brokerage', 'InvestmentFund', 'InvestmentStock']}\n",
      "1745\n"
     ]
    }
   ],
   "source": [
    "for i1,res in enumerate(result):\n",
    "  if i1%100==0:\n",
    "    print(res)\n",
    "print(i1)"
   ]
  },
  {
   "cell_type": "markdown",
   "metadata": {
    "id": "yhF6A6rbJOIb"
   },
   "source": [
    "Not lets use mongodb to acquire the data we need. Here we will aggregate two collections, accounts with transactions. Further, we use the account_id from accounts and link to the foreignField account_id from transactions, similarly as \"join on\" in sql. We rename that transacgtions_link. We will also selection only those records which have account_id less than 370000. "
   ]
  },
  {
   "cell_type": "code",
   "execution_count": null,
   "metadata": {
    "id": "r_q7s0C61-Gp"
   },
   "outputs": [],
   "source": [
    "result = accounts.aggregate([\n",
    "    {\n",
    "        '$lookup': {\n",
    "            'from': 'transactions', \n",
    "            'localField': 'account_id', \n",
    "            'foreignField': 'account_id', \n",
    "            'as': 'transactions_link'\n",
    "        }\n",
    "    }, {\n",
    "        '$match': {\n",
    "            '$expr': {\n",
    "                '$gt': [\n",
    "                    370000, '$account_id'\n",
    "                ]\n",
    "            }\n",
    "        }\n",
    "    }\n",
    "])"
   ]
  },
  {
   "cell_type": "markdown",
   "metadata": {
    "id": "RAl7Ko5FJqUR"
   },
   "source": [
    "Let's check the result."
   ]
  },
  {
   "cell_type": "code",
   "execution_count": null,
   "metadata": {
    "colab": {
     "base_uri": "https://localhost:8080/"
    },
    "id": "OVowZ8zg2D87",
    "outputId": "3f986cfa-5f22-4626-9e4d-5b860f8b7179"
   },
   "outputs": [],
   "source": [
    "for res in result:\n",
    "  print(res[\"account_id\"],len(res[\"transactions_link\"][0][\"transactions\"]))"
   ]
  },
  {
   "cell_type": "markdown",
   "metadata": {
    "id": "6DtcspKeJ2_g"
   },
   "source": [
    "Same story but we could the results."
   ]
  },
  {
   "cell_type": "code",
   "execution_count": null,
   "metadata": {
    "id": "9mc7HsNT2PkC"
   },
   "outputs": [],
   "source": [
    "result = accounts.aggregate([\n",
    "    {\n",
    "        '$lookup': {\n",
    "            'from': 'transactions', \n",
    "            'localField': 'account_id', \n",
    "            'foreignField': 'account_id', \n",
    "            'as': 'transactions_link'\n",
    "        }\n",
    "    }, {\n",
    "        '$match': {\n",
    "            '$expr': {\n",
    "                '$gt': [\n",
    "                    370000, '$account_id'\n",
    "                ]\n",
    "            }\n",
    "        }\n",
    "    }, {\n",
    "        '$count': 'account_id'\n",
    "    }\n",
    "])"
   ]
  },
  {
   "cell_type": "code",
   "execution_count": null,
   "metadata": {
    "colab": {
     "base_uri": "https://localhost:8080/"
    },
    "id": "zMB18iv26NK2",
    "outputId": "2f8ba293-92ec-4147-f3f0-bfd5471e1549"
   },
   "outputs": [],
   "source": [
    "for res in result:\n",
    "  print(res)"
   ]
  },
  {
   "cell_type": "markdown",
   "metadata": {
    "id": "v2BpYo676zw1"
   },
   "source": [
    "If you want check the results by putting transactions and accounts into two different pandas dataframes and merging them with sql.\n",
    "For the NoSQL-report the MongoDB query is needed. Using the syntax in the find is enough. You could double check using the pandas approach though."
   ]
  },
  {
   "cell_type": "markdown",
   "metadata": {
    "id": "cyOgPWV7L-5p"
   },
   "source": [
    "**Weiterführende Fragen:**\n",
    "\n",
    "Kannst du auswählen, welche account_id transactions mit weniger als 30 Elemente haben?\n",
    "Welche account hat die älteste transactions?\n",
    "Überlege noch 1-2 komplexe Fragen in diesem Datensatz."
   ]
  }
 ],
 "metadata": {
  "colab": {
   "name": "MongoDB.ipynb",
   "provenance": []
  },
  "kernelspec": {
   "display_name": "Python 3",
   "language": "python",
   "name": "python3"
  },
  "language_info": {
   "codemirror_mode": {
    "name": "ipython",
    "version": 3
   },
   "file_extension": ".py",
   "mimetype": "text/x-python",
   "name": "python",
   "nbconvert_exporter": "python",
   "pygments_lexer": "ipython3",
   "version": "3.8.8"
  }
 },
 "nbformat": 4,
 "nbformat_minor": 1
}
